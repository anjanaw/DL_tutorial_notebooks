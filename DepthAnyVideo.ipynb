{
  "nbformat": 4,
  "nbformat_minor": 0,
  "metadata": {
    "colab": {
      "provenance": [],
      "gpuType": "T4",
      "authorship_tag": "ABX9TyN/3DiE9vPnR7NXd+d5x4R5",
      "include_colab_link": true
    },
    "kernelspec": {
      "name": "python3",
      "display_name": "Python 3"
    },
    "language_info": {
      "name": "python"
    },
    "accelerator": "GPU"
  },
  "cells": [
    {
      "cell_type": "markdown",
      "metadata": {
        "id": "view-in-github",
        "colab_type": "text"
      },
      "source": [
        "<a href=\"https://colab.research.google.com/github/mobarakol/tutorial_notebooks/blob/main/DepthAnyVideo.ipynb\" target=\"_parent\"><img src=\"https://colab.research.google.com/assets/colab-badge.svg\" alt=\"Open In Colab\"/></a>"
      ]
    },
    {
      "cell_type": "code",
      "execution_count": null,
      "metadata": {
        "colab": {
          "base_uri": "https://localhost:8080/"
        },
        "id": "nkOF0dlzGrdt",
        "outputId": "edac81a4-e12d-4742-cda1-0da9aab804ef"
      },
      "outputs": [
        {
          "output_type": "stream",
          "name": "stdout",
          "text": [
            "Cloning into 'DepthAnyVideo'...\n",
            "remote: Enumerating objects: 62, done.\u001b[K\n",
            "remote: Counting objects: 100% (24/24), done.\u001b[K\n",
            "remote: Compressing objects: 100% (20/20), done.\u001b[K\n",
            "remote: Total 62 (delta 15), reused 4 (delta 4), pack-reused 38 (from 1)\u001b[K\n",
            "Receiving objects: 100% (62/62), 14.68 MiB | 16.27 MiB/s, done.\n",
            "Resolving deltas: 100% (17/17), done.\n"
          ]
        }
      ],
      "source": [
        "!git clone https://github.com/Nightmare-n/DepthAnyVideo\n",
        "%cd DepthAnyVideo"
      ]
    },
    {
      "cell_type": "code",
      "source": [
        "%cd DepthAnyVideo"
      ],
      "metadata": {
        "colab": {
          "base_uri": "https://localhost:8080/"
        },
        "id": "5szrgEprHxqK",
        "outputId": "66fdb033-0050-40c7-c815-bce3cb33b7d0"
      },
      "execution_count": null,
      "outputs": [
        {
          "output_type": "stream",
          "name": "stdout",
          "text": [
            "/content/DepthAnyVideo\n"
          ]
        }
      ]
    },
    {
      "cell_type": "code",
      "source": [
        "!python run_infer.py --data_path ./demos/arch_2.jpg --output_dir ./outputs/ --max_resolution 320"
      ],
      "metadata": {
        "colab": {
          "base_uri": "https://localhost:8080/"
        },
        "id": "MhEQHfWUH1pG",
        "outputId": "928ab005-883f-4149-9156-06f58433f6ce"
      },
      "execution_count": null,
      "outputs": [
        {
          "output_type": "stream",
          "name": "stdout",
          "text": [
            "2024-12-28 12:15:50.168998: E external/local_xla/xla/stream_executor/cuda/cuda_fft.cc:485] Unable to register cuFFT factory: Attempting to register factory for plugin cuFFT when one has already been registered\n",
            "2024-12-28 12:15:50.190022: E external/local_xla/xla/stream_executor/cuda/cuda_dnn.cc:8454] Unable to register cuDNN factory: Attempting to register factory for plugin cuDNN when one has already been registered\n",
            "2024-12-28 12:15:50.196713: E external/local_xla/xla/stream_executor/cuda/cuda_blas.cc:1452] Unable to register cuBLAS factory: Attempting to register factory for plugin cuBLAS when one has already been registered\n",
            "2024-12-28 12:15:50.212342: I tensorflow/core/platform/cpu_feature_guard.cc:210] This TensorFlow binary is optimized to use available CPU instructions in performance-critical operations.\n",
            "To enable the following instructions: AVX2 FMA, in other operations, rebuild TensorFlow with the appropriate compiler flags.\n",
            "2024-12-28 12:15:51.935477: W tensorflow/compiler/tf2tensorrt/utils/py_utils.cc:38] TF-TRT Warning: Could not find TensorRT\n",
            "INFO:root:output dir = ./outputs/\n",
            "input: torch.Size([1, 3, 320, 192])\n"
          ]
        }
      ]
    },
    {
      "cell_type": "code",
      "source": [
        "dfgfd"
      ],
      "metadata": {
        "id": "OTcvdFFqK7TU"
      },
      "execution_count": null,
      "outputs": []
    }
  ]
}