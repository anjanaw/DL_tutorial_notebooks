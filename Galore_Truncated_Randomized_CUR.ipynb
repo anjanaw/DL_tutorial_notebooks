{
  "nbformat": 4,
  "nbformat_minor": 0,
  "metadata": {
    "colab": {
      "provenance": [],
      "gpuType": "T4",
      "authorship_tag": "ABX9TyNW7d/emMaqnwk0bki8rr6r",
      "include_colab_link": true
    },
    "kernelspec": {
      "name": "python3",
      "display_name": "Python 3"
    },
    "language_info": {
      "name": "python"
    },
    "accelerator": "GPU"
  },
  "cells": [
    {
      "cell_type": "markdown",
      "metadata": {
        "id": "view-in-github",
        "colab_type": "text"
      },
      "source": [
        "<a href=\"https://colab.research.google.com/github/mobarakol/tutorial_notebooks/blob/main/Galore_Truncated_Randomized_CUR.ipynb\" target=\"_parent\"><img src=\"https://colab.research.google.com/assets/colab-badge.svg\" alt=\"Open In Colab\"/></a>"
      ]
    },
    {
      "cell_type": "markdown",
      "source": [
        "SVD"
      ],
      "metadata": {
        "id": "WHRVW09z4Mz-"
      }
    },
    {
      "cell_type": "code",
      "execution_count": 2,
      "metadata": {
        "colab": {
          "base_uri": "https://localhost:8080/"
        },
        "id": "-CP3H3NE0c4B",
        "outputId": "5e191570-46ae-4dae-a689-634779b8a784"
      },
      "outputs": [
        {
          "output_type": "stream",
          "name": "stdout",
          "text": [
            "Orthogonality check (should be close to identity):\n",
            "False\n",
            "orthogonal mat: torch.Size([3072, 128])\n"
          ]
        }
      ],
      "source": [
        "import torch\n",
        "\n",
        "# Generate a random 3072x3072 tensor\n",
        "A = torch.randn(3072, 3072)\n",
        "\n",
        "# Perform Singular Value Decomposition (SVD)\n",
        "U, S, Vh = torch.linalg.svd(A, full_matrices=False)\n",
        "\n",
        "# Take the first 128 columns of U to form a 3072x128 orthogonal matrix\n",
        "U_128 = U[:, :128]\n",
        "\n",
        "# Verify orthogonality (U_128.T @ U_128 should be close to identity)\n",
        "orthogonality_check = U_128.T @ U_128\n",
        "identity_matrix = torch.eye(128, device=U_128.device)\n",
        "\n",
        "print(\"Orthogonality check (should be close to identity):\")\n",
        "print(torch.allclose(orthogonality_check, identity_matrix, atol=1e-6))\n",
        "\n",
        "print('orthogonal mat:', U_128.shape)\n"
      ]
    },
    {
      "cell_type": "markdown",
      "source": [
        "Truncated SVD"
      ],
      "metadata": {
        "id": "D1P4x3J04Loy"
      }
    },
    {
      "cell_type": "code",
      "source": [
        "import torch\n",
        "\n",
        "# Generate a random 3072x3072 tensor\n",
        "A = torch.randn(3072, 3072)\n",
        "\n",
        "# Use PyTorch's svd_lowrank (efficient low-rank SVD)\n",
        "U, S, Vh = torch.svd_lowrank(A, q=128)  # Compute only the first 128 singular values/vectors\n",
        "\n",
        "# Truncated projection: Reduce A to 3072x128\n",
        "A_128 = U @ torch.diag(S)\n",
        "\n",
        "print(\"Reduced matrix shape:\", A_128.shape)  # Expected: (3072, 128)\n",
        "\n",
        "# Verify orthogonality\n",
        "orthogonality_check = U.T @ U\n",
        "identity_matrix = torch.eye(128, device=U.device)\n",
        "print(\"Orthogonality check (should be close to identity):\", torch.allclose(orthogonality_check, identity_matrix, atol=1e-6))\n",
        "\n"
      ],
      "metadata": {
        "colab": {
          "base_uri": "https://localhost:8080/"
        },
        "id": "pA8DMkbq1Nze",
        "outputId": "81a9085b-f453-4dfe-aec6-771d2e64b036"
      },
      "execution_count": 7,
      "outputs": [
        {
          "output_type": "stream",
          "name": "stdout",
          "text": [
            "Reduced matrix shape: torch.Size([3072, 128])\n",
            "Orthogonality check (should be close to identity): True\n"
          ]
        }
      ]
    },
    {
      "cell_type": "markdown",
      "source": [
        "Randomized SVD"
      ],
      "metadata": {
        "id": "UygNdnlQ4JPT"
      }
    },
    {
      "cell_type": "code",
      "source": [
        "import torch\n",
        "\n",
        "def randomized_svd(A, k=128, n_iter=5):\n",
        "    \"\"\"\n",
        "    Compute the randomized SVD of matrix A.\n",
        "\n",
        "    Args:\n",
        "        A (torch.Tensor): Input matrix (m x n).\n",
        "        k (int): Number of singular values/vectors to compute.\n",
        "        n_iter (int): Number of power iterations (improves accuracy for structured matrices).\n",
        "\n",
        "    Returns:\n",
        "        U (torch.Tensor): Left singular vectors (m x k).\n",
        "        S (torch.Tensor): Singular values (k).\n",
        "        Vh (torch.Tensor): Right singular vectors (k x n).\n",
        "    \"\"\"\n",
        "    m, n = A.shape\n",
        "\n",
        "    # Step 1: Random Projection\n",
        "    Q = torch.randn(n, k, device=A.device)  # Random Gaussian matrix\n",
        "    Y = A @ Q  # Project A onto a lower-dimensional space\n",
        "\n",
        "    # Step 2: Power Iteration (improves approximation for structured data)\n",
        "    for _ in range(n_iter):\n",
        "        Y = A @ (A.T @ Y)\n",
        "\n",
        "    # Step 3: Orthonormalization (QR decomposition)\n",
        "    Q, _ = torch.linalg.qr(Y)  # Q is m x k\n",
        "\n",
        "    # Step 4: Compute SVD on the projected small matrix\n",
        "    B = Q.T @ A  # k x n matrix\n",
        "    U_hat, S, Vh = torch.linalg.svd(B, full_matrices=False)  # SVD of reduced matrix\n",
        "\n",
        "    # Step 5: Compute final U\n",
        "    U = Q @ U_hat  # Convert back to original space\n",
        "\n",
        "    return U, S, Vh\n",
        "\n",
        "# Generate a large random 3072x3072 matrix\n",
        "A = torch.randn(3072, 3072, device=\"cuda\")  # Using GPU if available\n",
        "\n",
        "# Compute randomized SVD with 128 components\n",
        "U, S, Vh = randomized_svd(A, k=128, n_iter=5)\n",
        "\n",
        "# Verify results\n",
        "print(\"final U shape:\", U.shape)   # (3072, 128)\n",
        "print(\"S shape:\", S.shape)   # (128,)\n",
        "print(\"Vh shape:\", Vh.shape) # (128, 3072)\n",
        "\n",
        "# Verify orthogonality (U.T @ U should be identity)\n",
        "orthogonality_check = U.T @ U\n",
        "identity_matrix = torch.eye(128, device=U.device)\n",
        "print(\"Orthogonality check (should be close to identity):\", torch.allclose(orthogonality_check, identity_matrix, atol=1e-6))\n"
      ],
      "metadata": {
        "colab": {
          "base_uri": "https://localhost:8080/"
        },
        "id": "dKjkR9cw2l8e",
        "outputId": "8fa23b15-01d1-438e-80c1-8cb6e1259a35"
      },
      "execution_count": 9,
      "outputs": [
        {
          "output_type": "stream",
          "name": "stdout",
          "text": [
            "final U shape: torch.Size([3072, 128])\n",
            "S shape: torch.Size([128])\n",
            "Vh shape: torch.Size([128, 3072])\n",
            "Orthogonality check (should be close to identity): False\n"
          ]
        }
      ]
    },
    {
      "cell_type": "markdown",
      "source": [
        "CUR Decomposition"
      ],
      "metadata": {
        "id": "wxR6jl4y35fM"
      }
    },
    {
      "cell_type": "code",
      "source": [
        "import torch\n",
        "\n",
        "def cur_decomposition(A, k=128):\n",
        "    \"\"\"\n",
        "    Compute the CUR decomposition of matrix A.\n",
        "\n",
        "    Args:\n",
        "        A (torch.Tensor): Input matrix (m x n).\n",
        "        k (int): Number of rows and columns to select.\n",
        "\n",
        "    Returns:\n",
        "        C (torch.Tensor): Selected columns (m x k).\n",
        "        U (torch.Tensor): Low-rank representation (k x k).\n",
        "        R (torch.Tensor): Selected rows (k x n).\n",
        "    \"\"\"\n",
        "    m, n = A.shape\n",
        "\n",
        "    # Compute column selection probabilities (based on squared column norms)\n",
        "    col_norms = torch.norm(A, dim=0) ** 2\n",
        "    col_probs = col_norms / torch.sum(col_norms)\n",
        "\n",
        "    # Select k columns based on probabilities\n",
        "    col_indices = torch.multinomial(col_probs, k, replacement=False)\n",
        "    C = A[:, col_indices]\n",
        "\n",
        "    # Compute row selection probabilities (based on squared row norms)\n",
        "    row_norms = torch.norm(A, dim=1) ** 2\n",
        "    row_probs = row_norms / torch.sum(row_norms)\n",
        "\n",
        "    # Select k rows based on probabilities\n",
        "    row_indices = torch.multinomial(row_probs, k, replacement=False)\n",
        "    R = A[row_indices, :]\n",
        "\n",
        "    # Compute U (pseudo-inverse of intersection submatrix)\n",
        "    W = A[row_indices[:, None], col_indices]  # Intersection submatrix\n",
        "    U = torch.linalg.pinv(W)  # Compute pseudo-inverse\n",
        "\n",
        "    return C, U, R\n",
        "\n",
        "# Generate a random 3072x3072 matrix\n",
        "A = torch.randn(3072, 3072, device=\"cuda\")  # Using GPU if available\n",
        "\n",
        "# Perform CUR decomposition with 128 selected columns/rows\n",
        "C, U, R = cur_decomposition(A, k=128)\n",
        "\n",
        "# Verify shapes\n",
        "print(\"C final shape:\", C.shape)   # Expected: (3072, 128)\n",
        "print(\"U shape:\", U.shape)   # Expected: (128, 128)\n",
        "print(\"R shape:\", R.shape)   # Expected: (128, 3072)\n",
        "\n",
        "# Check reconstruction error\n",
        "A_approx = C @ U @ R\n",
        "reconstruction_error = torch.norm(A - A_approx) / torch.norm(A)\n",
        "print(\"Relative reconstruction error:\", reconstruction_error.item())\n"
      ],
      "metadata": {
        "colab": {
          "base_uri": "https://localhost:8080/"
        },
        "id": "dov8HaN73SHF",
        "outputId": "ab4c627a-1c13-4257-adbe-f67097a2c649"
      },
      "execution_count": 6,
      "outputs": [
        {
          "output_type": "stream",
          "name": "stdout",
          "text": [
            "C shape: torch.Size([3072, 128])\n",
            "U shape: torch.Size([128, 128])\n",
            "R shape: torch.Size([128, 3072])\n",
            "Relative reconstruction error: 9.713813781738281\n",
            "orthogonal mat: torch.Size([3072, 128])\n"
          ]
        }
      ]
    },
    {
      "cell_type": "code",
      "source": [],
      "metadata": {
        "id": "n4oLhsnz374U"
      },
      "execution_count": null,
      "outputs": []
    }
  ]
}