{
  "nbformat": 4,
  "nbformat_minor": 0,
  "metadata": {
    "colab": {
      "provenance": [],
      "gpuType": "T4",
      "authorship_tag": "ABX9TyNT24rhH7HZxFUCsm9C2PQt",
      "include_colab_link": true
    },
    "kernelspec": {
      "name": "python3",
      "display_name": "Python 3"
    },
    "language_info": {
      "name": "python"
    },
    "accelerator": "GPU"
  },
  "cells": [
    {
      "cell_type": "markdown",
      "metadata": {
        "id": "view-in-github",
        "colab_type": "text"
      },
      "source": [
        "<a href=\"https://colab.research.google.com/github/mobarakol/tutorial_notebooks/blob/main/Galore_Truncated_Randomized_CUR.ipynb\" target=\"_parent\"><img src=\"https://colab.research.google.com/assets/colab-badge.svg\" alt=\"Open In Colab\"/></a>"
      ]
    },
    {
      "cell_type": "markdown",
      "source": [
        "SVD"
      ],
      "metadata": {
        "id": "WHRVW09z4Mz-"
      }
    },
    {
      "cell_type": "code",
      "execution_count": 10,
      "metadata": {
        "colab": {
          "base_uri": "https://localhost:8080/"
        },
        "id": "-CP3H3NE0c4B",
        "outputId": "5a610939-378f-42c5-aef0-dd5996726ead"
      },
      "outputs": [
        {
          "output_type": "stream",
          "name": "stdout",
          "text": [
            "time: 10.747417211532593\n",
            "Orthogonality check (should be close to identity):\n",
            "False\n",
            "orthogonal mat: torch.Size([3072, 128])\n"
          ]
        }
      ],
      "source": [
        "import torch\n",
        "import time\n",
        "\n",
        "# Generate a random 3072x3072 tensor\n",
        "A = torch.randn(3072, 3072)\n",
        "\n",
        "st = time.time()\n",
        "# Perform Singular Value Decomposition (SVD)\n",
        "U, S, Vh = torch.linalg.svd(A, full_matrices=False)\n",
        "\n",
        "# Take the first 128 columns of U to form a 3072x128 orthogonal matrix\n",
        "U_128 = U[:, :128]\n",
        "en = time.time()\n",
        "\n",
        "print('time:', en-st)\n",
        "# Verify orthogonality (U_128.T @ U_128 should be close to identity)\n",
        "orthogonality_check = U_128.T @ U_128\n",
        "identity_matrix = torch.eye(128, device=U_128.device)\n",
        "\n",
        "print(\"Orthogonality check (should be close to identity):\")\n",
        "print(torch.allclose(orthogonality_check, identity_matrix, atol=1e-6))\n",
        "\n",
        "print('orthogonal mat:', U_128.shape)\n"
      ]
    },
    {
      "cell_type": "markdown",
      "source": [
        "Truncated SVD"
      ],
      "metadata": {
        "id": "D1P4x3J04Loy"
      }
    },
    {
      "cell_type": "code",
      "source": [
        "import torch\n",
        "\n",
        "# Generate a random 3072x3072 tensor\n",
        "A = torch.randn(3072, 3072)\n",
        "\n",
        "st = time.time()\n",
        "# Use PyTorch's svd_lowrank (efficient low-rank SVD)\n",
        "U, S, Vh = torch.svd_lowrank(A, q=128)  # Compute only the first 128 singular values/vectors\n",
        "\n",
        "# Truncated projection: Reduce A to 3072x128\n",
        "A_128 = U @ torch.diag(S)\n",
        "en = time.time()\n",
        "\n",
        "print('time:', en-st)\n",
        "print(\"Reduced matrix shape:\", A_128.shape)  # Expected: (3072, 128)\n",
        "\n",
        "# Verify orthogonality\n",
        "orthogonality_check = U.T @ U\n",
        "identity_matrix = torch.eye(128, device=U.device)\n",
        "print(\"Orthogonality check (should be close to identity):\", torch.allclose(orthogonality_check, identity_matrix, atol=1e-6))\n",
        "\n"
      ],
      "metadata": {
        "colab": {
          "base_uri": "https://localhost:8080/"
        },
        "id": "pA8DMkbq1Nze",
        "outputId": "9dceeac3-f469-4c36-a4ed-0318e2e7a694"
      },
      "execution_count": 11,
      "outputs": [
        {
          "output_type": "stream",
          "name": "stdout",
          "text": [
            "time: 0.26743578910827637\n",
            "Reduced matrix shape: torch.Size([3072, 128])\n",
            "Orthogonality check (should be close to identity): True\n"
          ]
        }
      ]
    },
    {
      "cell_type": "markdown",
      "source": [
        "Randomized SVD"
      ],
      "metadata": {
        "id": "UygNdnlQ4JPT"
      }
    },
    {
      "cell_type": "code",
      "source": [
        "import torch\n",
        "\n",
        "def randomized_svd(A, k=128, n_iter=5):\n",
        "    \"\"\"\n",
        "    Compute the randomized SVD of matrix A.\n",
        "\n",
        "    Args:\n",
        "        A (torch.Tensor): Input matrix (m x n).\n",
        "        k (int): Number of singular values/vectors to compute.\n",
        "        n_iter (int): Number of power iterations (improves accuracy for structured matrices).\n",
        "\n",
        "    Returns:\n",
        "        U (torch.Tensor): Left singular vectors (m x k).\n",
        "        S (torch.Tensor): Singular values (k).\n",
        "        Vh (torch.Tensor): Right singular vectors (k x n).\n",
        "    \"\"\"\n",
        "    m, n = A.shape\n",
        "\n",
        "    # Step 1: Random Projection\n",
        "    Q = torch.randn(n, k, device=A.device)  # Random Gaussian matrix\n",
        "    Y = A @ Q  # Project A onto a lower-dimensional space\n",
        "\n",
        "    # Step 2: Power Iteration (improves approximation for structured data)\n",
        "    for _ in range(n_iter):\n",
        "        Y = A @ (A.T @ Y)\n",
        "\n",
        "    # Step 3: Orthonormalization (QR decomposition)\n",
        "    Q, _ = torch.linalg.qr(Y)  # Q is m x k\n",
        "\n",
        "    # Step 4: Compute SVD on the projected small matrix\n",
        "    B = Q.T @ A  # k x n matrix\n",
        "    U_hat, S, Vh = torch.linalg.svd(B, full_matrices=False)  # SVD of reduced matrix\n",
        "\n",
        "    # Step 5: Compute final U\n",
        "    U = Q @ U_hat  # Convert back to original space\n",
        "\n",
        "    return U, S, Vh\n",
        "\n",
        "# Generate a large random 3072x3072 matrix\n",
        "A = torch.randn(3072, 3072, device=\"cuda\")  # Using GPU if available\n",
        "\n",
        "# Compute randomized SVD with 128 components\n",
        "U, S, Vh = randomized_svd(A, k=128, n_iter=5)\n",
        "\n",
        "# Verify results\n",
        "print(\"final U shape:\", U.shape)   # (3072, 128)\n",
        "print(\"S shape:\", S.shape)   # (128,)\n",
        "print(\"Vh shape:\", Vh.shape) # (128, 3072)\n",
        "\n",
        "# Verify orthogonality (U.T @ U should be identity)\n",
        "orthogonality_check = U.T @ U\n",
        "identity_matrix = torch.eye(128, device=U.device)\n",
        "print(\"Orthogonality check (should be close to identity):\", torch.allclose(orthogonality_check, identity_matrix, atol=1e-6))\n"
      ],
      "metadata": {
        "colab": {
          "base_uri": "https://localhost:8080/"
        },
        "id": "dKjkR9cw2l8e",
        "outputId": "8fa23b15-01d1-438e-80c1-8cb6e1259a35"
      },
      "execution_count": 9,
      "outputs": [
        {
          "output_type": "stream",
          "name": "stdout",
          "text": [
            "final U shape: torch.Size([3072, 128])\n",
            "S shape: torch.Size([128])\n",
            "Vh shape: torch.Size([128, 3072])\n",
            "Orthogonality check (should be close to identity): False\n"
          ]
        }
      ]
    },
    {
      "cell_type": "markdown",
      "source": [
        "CUR Decomposition"
      ],
      "metadata": {
        "id": "wxR6jl4y35fM"
      }
    },
    {
      "cell_type": "code",
      "source": [
        "import torch\n",
        "\n",
        "def cur_decomposition(A, k=128):\n",
        "    \"\"\"\n",
        "    Compute the CUR decomposition of matrix A.\n",
        "\n",
        "    Args:\n",
        "        A (torch.Tensor): Input matrix (m x n).\n",
        "        k (int): Number of rows and columns to select.\n",
        "\n",
        "    Returns:\n",
        "        C (torch.Tensor): Selected columns (m x k).\n",
        "        U (torch.Tensor): Low-rank representation (k x k).\n",
        "        R (torch.Tensor): Selected rows (k x n).\n",
        "    \"\"\"\n",
        "    m, n = A.shape\n",
        "\n",
        "    # Compute column selection probabilities (based on squared column norms)\n",
        "    col_norms = torch.norm(A, dim=0) ** 2\n",
        "    col_probs = col_norms / torch.sum(col_norms)\n",
        "\n",
        "    # Select k columns based on probabilities\n",
        "    col_indices = torch.multinomial(col_probs, k, replacement=False)\n",
        "    C = A[:, col_indices]\n",
        "\n",
        "    # Compute row selection probabilities (based on squared row norms)\n",
        "    row_norms = torch.norm(A, dim=1) ** 2\n",
        "    row_probs = row_norms / torch.sum(row_norms)\n",
        "\n",
        "    # Select k rows based on probabilities\n",
        "    row_indices = torch.multinomial(row_probs, k, replacement=False)\n",
        "    R = A[row_indices, :]\n",
        "\n",
        "    # Compute U (pseudo-inverse of intersection submatrix)\n",
        "    W = A[row_indices[:, None], col_indices]  # Intersection submatrix\n",
        "    U = torch.linalg.pinv(W)  # Compute pseudo-inverse\n",
        "\n",
        "    return C, U, R\n",
        "\n",
        "# Generate a random 3072x3072 matrix\n",
        "A = torch.randn(3072, 3072, device=\"cuda\")  # Using GPU if available\n",
        "\n",
        "# Perform CUR decomposition with 128 selected columns/rows\n",
        "C, U, R = cur_decomposition(A, k=128)\n",
        "\n",
        "# Verify shapes\n",
        "print(\"C final shape:\", C.shape)   # Expected: (3072, 128)\n",
        "print(\"U shape:\", U.shape)   # Expected: (128, 128)\n",
        "print(\"R shape:\", R.shape)   # Expected: (128, 3072)\n",
        "\n",
        "# Check reconstruction error\n",
        "A_approx = C @ U @ R\n",
        "reconstruction_error = torch.norm(A - A_approx) / torch.norm(A)\n",
        "print(\"Relative reconstruction error:\", reconstruction_error.item())\n"
      ],
      "metadata": {
        "colab": {
          "base_uri": "https://localhost:8080/"
        },
        "id": "dov8HaN73SHF",
        "outputId": "ab4c627a-1c13-4257-adbe-f67097a2c649"
      },
      "execution_count": 6,
      "outputs": [
        {
          "output_type": "stream",
          "name": "stdout",
          "text": [
            "C shape: torch.Size([3072, 128])\n",
            "U shape: torch.Size([128, 128])\n",
            "R shape: torch.Size([128, 3072])\n",
            "Relative reconstruction error: 9.713813781738281\n",
            "orthogonal mat: torch.Size([3072, 128])\n"
          ]
        }
      ]
    },
    {
      "cell_type": "markdown",
      "source": [
        "Kerbel SVD"
      ],
      "metadata": {
        "id": "GcwLvwiH_R4L"
      }
    },
    {
      "cell_type": "code",
      "source": [
        "import torch\n",
        "\n",
        "def rbf_kernel_torch(A, gamma=None):\n",
        "    \"\"\"\n",
        "    Compute the RBF Kernel using PyTorch.\n",
        "\n",
        "    Args:\n",
        "        A (torch.Tensor): Input matrix (m x n).\n",
        "        gamma (float): Kernel coefficient (default: 1 / feature_dim).\n",
        "\n",
        "    Returns:\n",
        "        K (torch.Tensor): Kernel matrix (m x m).\n",
        "    \"\"\"\n",
        "    m, n = A.shape\n",
        "    if gamma is None:\n",
        "        gamma = 1.0 / n  # Default gamma = 1/n_features\n",
        "\n",
        "    # Compute squared Euclidean distance using torch.cdist\n",
        "    squared_distances = torch.cdist(A, A, p=2) ** 2\n",
        "\n",
        "    # Compute RBF Kernel\n",
        "    K = torch.exp(-gamma * squared_distances)\n",
        "    return K\n",
        "\n",
        "def kernel_svd(A, k=128):\n",
        "    \"\"\"\n",
        "    Compute Kernel SVD (K-SVD) using the RBF kernel.\n",
        "\n",
        "    Args:\n",
        "        A (torch.Tensor): Input matrix (m x n).\n",
        "        k (int): Number of singular components to keep.\n",
        "\n",
        "    Returns:\n",
        "        U_k (torch.Tensor): Kernelized left singular vectors (m x k).\n",
        "        S_k (torch.Tensor): Singular values (k).\n",
        "        V_k (torch.Tensor): Kernelized right singular vectors (k x n).\n",
        "    \"\"\"\n",
        "    device = A.device\n",
        "\n",
        "    # Step 1: Compute Kernel Matrix using RBF\n",
        "    K = rbf_kernel_torch(A).to(device)  # Kernel transformation\n",
        "\n",
        "    # Step 2: Perform SVD on Kernel Matrix\n",
        "    U, S, Vh = torch.linalg.svd(K, full_matrices=False)\n",
        "\n",
        "    # Step 3: Select top-k components\n",
        "    U_k = U[:, :k]  # Left singular vectors\n",
        "    S_k = S[:k]  # Singular values\n",
        "    V_k = Vh[:k, :]  # Right singular vectors\n",
        "\n",
        "    return U_k, S_k, V_k\n",
        "\n",
        "# Generate a random 3072x3072 matrix (GPU-accelerated)\n",
        "A = torch.randn(3072, 3072, device=\"cuda\")  # Use GPU if available\n",
        "\n",
        "# Compute Kernel SVD with 128 components\n",
        "U_k, S_k, V_k = kernel_svd(A, k=128)\n",
        "\n",
        "# Verify output shapes\n",
        "print(\"U_k shape:\", U_k.shape)  # Expected: (3072, 128)\n",
        "print(\"S_k shape:\", S_k.shape)  # Expected: (128,)\n",
        "print(\"V_k shape:\", V_k.shape)  # Expected: (128, 3072)\n",
        "\n",
        "# Compute reconstruction error (optional)\n",
        "K_approx = U_k @ torch.diag(S_k) @ V_k\n",
        "error = torch.norm(K_approx - rbf_kernel_torch(A)) / torch.norm(rbf_kernel_torch(A))\n",
        "print(\"Relative reconstruction error:\", error.item())\n"
      ],
      "metadata": {
        "colab": {
          "base_uri": "https://localhost:8080/"
        },
        "id": "p1G4cmtK_SCR",
        "outputId": "c29085bc-817d-44e4-8eb2-b028a3221404"
      },
      "execution_count": 15,
      "outputs": [
        {
          "output_type": "stream",
          "name": "stdout",
          "text": [
            "U_k shape: torch.Size([3072, 128])\n",
            "S_k shape: torch.Size([128])\n",
            "V_k shape: torch.Size([128, 3072])\n",
            "Relative reconstruction error: 0.11192391067743301\n"
          ]
        }
      ]
    },
    {
      "cell_type": "markdown",
      "source": [
        "FFT-Based Projection (Fast Fourier Transform)"
      ],
      "metadata": {
        "id": "RW7qdvKu9lgc"
      }
    },
    {
      "cell_type": "code",
      "source": [
        "import torch\n",
        "\n",
        "def fft_svd_projection(A, k=128):\n",
        "    \"\"\"\n",
        "    Approximate SVD using Fast Fourier Transform (FFT),\n",
        "    projecting a 3072x3072 matrix to a lower-rank 3072x128 representation.\n",
        "\n",
        "    Args:\n",
        "        A (torch.Tensor): Input matrix (m x n).\n",
        "        k (int): Number of frequency components to keep (columns in the output).\n",
        "\n",
        "    Returns:\n",
        "        A_k (torch.Tensor): 3072x128 low-rank approximation using FFT.\n",
        "    \"\"\"\n",
        "    device = A.device\n",
        "    m, n = A.shape\n",
        "\n",
        "    # Compute 2D Fourier Transform\n",
        "    A_fft = torch.fft.fft2(A)\n",
        "\n",
        "    # Keep only the top-k frequencies along columns\n",
        "    A_fft_k = torch.zeros_like(A_fft)\n",
        "    A_fft_k[:, :k] = A_fft[:, :k]  # Retain low-frequency components in columns\n",
        "\n",
        "    # Inverse FFT to reconstruct low-rank matrix\n",
        "    A_k = torch.fft.ifft2(A_fft_k).real  # Take the real part after inverse FFT\n",
        "\n",
        "    return A_k[:, :k]  # Return only the first 128 columns\n",
        "\n",
        "# Generate a random 3072x3072 matrix\n",
        "A = torch.randn(3072, 3072, device=\"cuda\")  # Use GPU if available\n",
        "\n",
        "# Compute FFT-based low-rank projection (output: 3072x128)\n",
        "A_k = fft_svd_projection(A, k=128)\n",
        "\n",
        "# Verify output shape\n",
        "print(\"Low-rank projected matrix shape:\", A_k.shape)  # Expected: (3072, 128)\n",
        "\n",
        "# Check approximation error\n",
        "reconstruction_error = torch.norm(A[:, :128] - A_k) / torch.norm(A[:, :128])\n",
        "print(\"Relative reconstruction error:\", reconstruction_error.item())\n"
      ],
      "metadata": {
        "colab": {
          "base_uri": "https://localhost:8080/"
        },
        "id": "n4oLhsnz374U",
        "outputId": "00564fc1-881c-40f0-a296-415aa2d85aab"
      },
      "execution_count": 14,
      "outputs": [
        {
          "output_type": "stream",
          "name": "stdout",
          "text": [
            "Low-rank projected matrix shape: torch.Size([3072, 128])\n",
            "Relative reconstruction error: 0.968512773513794\n"
          ]
        }
      ]
    },
    {
      "cell_type": "code",
      "source": [],
      "metadata": {
        "id": "PoDFcX1Y9BCd"
      },
      "execution_count": null,
      "outputs": []
    }
  ]
}