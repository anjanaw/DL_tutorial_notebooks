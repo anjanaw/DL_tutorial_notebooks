{
  "nbformat": 4,
  "nbformat_minor": 0,
  "metadata": {
    "colab": {
      "provenance": [],
      "gpuType": "T4",
      "authorship_tag": "ABX9TyM84TdzPd2GSQdkaz8FiLwi",
      "include_colab_link": true
    },
    "kernelspec": {
      "name": "python3",
      "display_name": "Python 3"
    },
    "language_info": {
      "name": "python"
    },
    "accelerator": "GPU"
  },
  "cells": [
    {
      "cell_type": "markdown",
      "metadata": {
        "id": "view-in-github",
        "colab_type": "text"
      },
      "source": [
        "<a href=\"https://colab.research.google.com/github/mobarakol/tutorial_notebooks/blob/main/Longitudinal_Image_MHAResNet.ipynb\" target=\"_parent\"><img src=\"https://colab.research.google.com/assets/colab-badge.svg\" alt=\"Open In Colab\"/></a>"
      ]
    },
    {
      "cell_type": "markdown",
      "source": [
        "MHAResNet"
      ],
      "metadata": {
        "id": "L7DW2HmvHlRZ"
      }
    },
    {
      "cell_type": "code",
      "source": [
        "import torch\n",
        "import torch.nn as nn\n",
        "import torch.nn.functional as F\n",
        "from torchvision import models\n",
        "\n",
        "class TemporalResNet(nn.Module):\n",
        "    def __init__(self, resnet_type=\"resnet18\", num_classes=1000, embed_dim=512, num_heads=8):\n",
        "        super(TemporalResNet, self).__init__()\n",
        "\n",
        "        # Load ResNet backbone (excluding fully connected layers)\n",
        "        resnet = getattr(models, resnet_type)(pretrained=True)\n",
        "        self.feature_extractor = nn.Sequential(*list(resnet.children())[:-2])  # Remove avgpool and fc layers\n",
        "\n",
        "        # Feature dimensionality\n",
        "        self.feature_dim = resnet.fc.in_features\n",
        "\n",
        "        # Projection layer to match MultiheadAttention embedding size\n",
        "        self.projection = nn.Linear(self.feature_dim, embed_dim)\n",
        "\n",
        "        # Multihead Self-Attention\n",
        "        self.attention = nn.MultiheadAttention(embed_dim=embed_dim, num_heads=num_heads, batch_first=True)\n",
        "\n",
        "        # Fully Connected Head\n",
        "        self.fc = nn.Linear(embed_dim, num_classes)\n",
        "\n",
        "    def forward(self, frame1, frame2):\n",
        "        # Extract features for both frames\n",
        "        f1 = self.feature_extractor(frame1)  # Shape: (B, C, H, W)\n",
        "        f2 = self.feature_extractor(frame2)  # Shape: (B, C, H, W)\n",
        "\n",
        "        # Global Average Pooling\n",
        "        f1 = F.adaptive_avg_pool2d(f1, (1, 1)).squeeze(-1).squeeze(-1)  # Shape: (B, C)\n",
        "        f2 = F.adaptive_avg_pool2d(f2, (1, 1)).squeeze(-1).squeeze(-1)  # Shape: (B, C)\n",
        "\n",
        "        # Project to embedding space\n",
        "        f1 = self.projection(f1)  # Shape: (B, embed_dim)\n",
        "        f2 = self.projection(f2)  # Shape: (B, embed_dim)\n",
        "\n",
        "        # Create sequence (T=2, B, embed_dim)\n",
        "        features = torch.stack([f1, f2], dim=1)  # Shape: (B, 2, embed_dim)\n",
        "\n",
        "        # Self-Attention across temporal frames\n",
        "        attended_features, _ = self.attention(features, features, features)\n",
        "\n",
        "        # Aggregate attended features (using the last time step or mean)\n",
        "        fused_features = attended_features.mean(dim=1)  # Shape: (B, embed_dim)\n",
        "\n",
        "        # Classification\n",
        "        output = self.fc(fused_features)  # Shape: (B, num_classes)\n",
        "\n",
        "        return output\n",
        "\n",
        "# Example usage\n",
        "if __name__ == \"__main__\":\n",
        "    model = TemporalResNet(resnet_type=\"resnet18\", num_classes=3, embed_dim=512, num_heads=8)\n",
        "    frame1 = torch.randn(4, 3, 224, 224)  # Batch of 4 images\n",
        "    frame2 = torch.randn(4, 3, 224, 224)\n",
        "    output = model(frame1, frame2)\n",
        "    print(output.shape)  # Expected: (4, 10)\n"
      ],
      "metadata": {
        "colab": {
          "base_uri": "https://localhost:8080/"
        },
        "id": "sNXviorOrwKG",
        "outputId": "d09d62b4-5fe3-488f-f516-a043715ee5b1"
      },
      "execution_count": 4,
      "outputs": [
        {
          "output_type": "stream",
          "name": "stderr",
          "text": [
            "/usr/local/lib/python3.11/dist-packages/torchvision/models/_utils.py:208: UserWarning: The parameter 'pretrained' is deprecated since 0.13 and may be removed in the future, please use 'weights' instead.\n",
            "  warnings.warn(\n",
            "/usr/local/lib/python3.11/dist-packages/torchvision/models/_utils.py:223: UserWarning: Arguments other than a weight enum or `None` for 'weights' are deprecated since 0.13 and may be removed in the future. The current behavior is equivalent to passing `weights=ResNet18_Weights.IMAGENET1K_V1`. You can also use `weights=ResNet18_Weights.DEFAULT` to get the most up-to-date weights.\n",
            "  warnings.warn(msg)\n",
            "Downloading: \"https://download.pytorch.org/models/resnet18-f37072fd.pth\" to /root/.cache/torch/hub/checkpoints/resnet18-f37072fd.pth\n",
            "100%|██████████| 44.7M/44.7M [00:00<00:00, 129MB/s]\n"
          ]
        },
        {
          "output_type": "stream",
          "name": "stdout",
          "text": [
            "torch.Size([4, 3])\n"
          ]
        }
      ]
    }
  ]
}