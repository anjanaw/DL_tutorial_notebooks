{
  "cells": [
    {
      "cell_type": "markdown",
      "metadata": {
        "id": "view-in-github",
        "colab_type": "text"
      },
      "source": [
        "<a href=\"https://colab.research.google.com/github/mobarakol/tutorial_notebooks/blob/main/MRI2IMAGE_OASIS_2.ipynb\" target=\"_parent\"><img src=\"https://colab.research.google.com/assets/colab-badge.svg\" alt=\"Open In Colab\"/></a>"
      ]
    },
    {
      "cell_type": "markdown",
      "source": [
        "#Download 2D Slices of Dimentia Longitudina Data\n",
        "Sagital Slices of the MRIs have been extracted from two time points. <br>\n",
        "Original MRI can be found here: https://sites.wustl.edu/oasisbrains/home/oasis-2/<br>\n",
        "\n",
        "Original label can be found here: https://www.kaggle.com/datasets/jboysen/mri-and-alzheimers <br> or https://www.kaggle.com/datasets/abdelazizsami/oasis-longitudinal"
      ],
      "metadata": {
        "id": "eA1jRooIdbTA"
      },
      "id": "eA1jRooIdbTA"
    },
    {
      "cell_type": "code",
      "execution_count": null,
      "id": "59d88f33-a48a-428c-b583-3432f20da79a",
      "metadata": {
        "id": "59d88f33-a48a-428c-b583-3432f20da79a"
      },
      "outputs": [],
      "source": [
        "import nibabel as nib\n",
        "import numpy as np\n",
        "from glob import glob\n",
        "import cv2\n",
        "\n",
        "path = glob ('OAS2_RAW_PART1/OAS2_0001_MR1/*/*.nifti.img')"
      ]
    },
    {
      "cell_type": "code",
      "execution_count": null,
      "id": "38f815cc-fc33-4c23-935d-f5ce3e26ca22",
      "metadata": {
        "id": "38f815cc-fc33-4c23-935d-f5ce3e26ca22",
        "outputId": "fa1fb726-1cfa-4e7f-bf53-81bc1d82cfcf"
      },
      "outputs": [
        {
          "data": {
            "text/plain": [
              "(256, 256, 128, 1)"
            ]
          },
          "execution_count": 20,
          "metadata": {},
          "output_type": "execute_result"
        }
      ],
      "source": [
        "mri_image = nib.load(path[0])\n",
        "image_data = mri_image.get_fdata()\n",
        "image_data.shape"
      ]
    },
    {
      "cell_type": "code",
      "execution_count": null,
      "id": "b648fe5d-e6cb-49f9-bbb0-3a0bb30133ab",
      "metadata": {
        "id": "b648fe5d-e6cb-49f9-bbb0-3a0bb30133ab",
        "outputId": "b260b4c7-8344-40a0-e3c6-ac8594f98fc7"
      },
      "outputs": [
        {
          "data": {
            "text/plain": [
              "(256, 256)"
            ]
          },
          "execution_count": 21,
          "metadata": {},
          "output_type": "execute_result"
        }
      ],
      "source": [
        "image_data[:,:,64,0].shape"
      ]
    },
    {
      "cell_type": "code",
      "execution_count": null,
      "id": "f3a594c0-9785-4cf0-a549-111e4ebe647c",
      "metadata": {
        "id": "f3a594c0-9785-4cf0-a549-111e4ebe647c",
        "outputId": "2f13b6d2-0912-40e3-d511-c6a74f1d80c3"
      },
      "outputs": [
        {
          "data": {
            "text/plain": [
              "True"
            ]
          },
          "execution_count": 27,
          "metadata": {},
          "output_type": "execute_result"
        }
      ],
      "source": [
        "slice_data_normalized = cv2.normalize(image_data[:,:,64,0], None, 0, 255, cv2.NORM_MINMAX)\n",
        "slice_data_normalized = slice_data_normalized.astype(np.uint8)\n",
        "rotated_image = cv2.rotate(slice_data_normalized, cv2.ROTATE_90_COUNTERCLOCKWISE)\n",
        "cv2.imwrite('test.png', rotated_image)"
      ]
    },
    {
      "cell_type": "code",
      "execution_count": null,
      "id": "adbfbfc6-1ee7-4d1d-a0a2-415c52a77c01",
      "metadata": {
        "id": "adbfbfc6-1ee7-4d1d-a0a2-415c52a77c01",
        "outputId": "4c941515-f03a-44d2-94cd-5e3ec2c0ca1a"
      },
      "outputs": [
        {
          "name": "stdout",
          "output_type": "stream",
          "text": [
            "OAS2_0001_MR1 Nondemented\n"
          ]
        }
      ],
      "source": [
        "import pandas as pd\n",
        "\n",
        "# Load the CSV file\n",
        "file_path = 'labels/oasis_longitudinal.csv'  # Replace with your file path\n",
        "df = pd.read_csv(file_path)\n",
        "\n",
        "# Read a specific column\n",
        "mri_path = df['MRI ID']\n",
        "label = df['Group']\n",
        "patient_ids = df['Subject ID']\n",
        "\n",
        "# Print the column data\n",
        "print(mri_path[0], label[0])\n"
      ]
    },
    {
      "cell_type": "code",
      "execution_count": null,
      "id": "b126144f-322b-4694-8239-88c6581c74b0",
      "metadata": {
        "id": "b126144f-322b-4694-8239-88c6581c74b0",
        "outputId": "6f02a5d1-f214-4bf8-a4ca-664c90dedd00"
      },
      "outputs": [
        {
          "data": {
            "text/plain": [
              "0      OAS2_0001\n",
              "1      OAS2_0001\n",
              "2      OAS2_0002\n",
              "3      OAS2_0002\n",
              "4      OAS2_0002\n",
              "         ...    \n",
              "368    OAS2_0185\n",
              "369    OAS2_0185\n",
              "370    OAS2_0186\n",
              "371    OAS2_0186\n",
              "372    OAS2_0186\n",
              "Name: Subject ID, Length: 373, dtype: object"
            ]
          },
          "execution_count": 45,
          "metadata": {},
          "output_type": "execute_result"
        }
      ],
      "source": [
        "patient_ids"
      ]
    },
    {
      "cell_type": "code",
      "execution_count": null,
      "id": "abd6a7fa-7973-48bc-b2aa-2ab57cd5b16f",
      "metadata": {
        "id": "abd6a7fa-7973-48bc-b2aa-2ab57cd5b16f",
        "outputId": "082dc336-f657-46a1-b1bf-2754463ad18a"
      },
      "outputs": [
        {
          "name": "stdout",
          "output_type": "stream",
          "text": [
            "0 OAS2_RAW/OAS2_0103_MR1/RAW/mpr-1.nifti.img OAS2_RAW/OAS2_0103_MR2/RAW/mpr-1.nifti.img\n",
            "1 OAS2_RAW/OAS2_0161_MR1/RAW/mpr-1.nifti.img OAS2_RAW/OAS2_0161_MR2/RAW/mpr-1.nifti.img\n",
            "2 OAS2_RAW/OAS2_0091_MR1/RAW/mpr-1.nifti.img OAS2_RAW/OAS2_0091_MR2/RAW/mpr-1.nifti.img\n",
            "3 OAS2_RAW/OAS2_0111_MR1/RAW/mpr-1.nifti.img OAS2_RAW/OAS2_0111_MR2/RAW/mpr-1.nifti.img\n",
            "4 OAS2_RAW/OAS2_0097_MR1/RAW/mpr-1.nifti.img OAS2_RAW/OAS2_0097_MR2/RAW/mpr-1.nifti.img\n",
            "5 OAS2_RAW/OAS2_0023_MR1/RAW/mpr-1.nifti.img OAS2_RAW/OAS2_0023_MR2/RAW/mpr-1.nifti.img\n",
            "6 OAS2_RAW/OAS2_0016_MR1/RAW/mpr-1.nifti.img OAS2_RAW/OAS2_0016_MR2/RAW/mpr-1.nifti.img\n",
            "7 OAS2_RAW/OAS2_0139_MR1/RAW/mpr-1.nifti.img OAS2_RAW/OAS2_0139_MR2/RAW/mpr-1.nifti.img\n",
            "8 OAS2_RAW/OAS2_0179_MR1/RAW/mpr-1.nifti.img OAS2_RAW/OAS2_0179_MR2/RAW/mpr-1.nifti.img\n",
            "9 OAS2_RAW/OAS2_0039_MR1/RAW/mpr-1.nifti.img OAS2_RAW/OAS2_0039_MR2/RAW/mpr-1.nifti.img\n",
            "10 OAS2_RAW/OAS2_0145_MR1/RAW/mpr-1.nifti.img OAS2_RAW/OAS2_0145_MR2/RAW/mpr-1.nifti.img\n",
            "11 OAS2_RAW/OAS2_0032_MR1/RAW/mpr-1.nifti.img OAS2_RAW/OAS2_0032_MR2/RAW/mpr-1.nifti.img\n",
            "12 OAS2_RAW/OAS2_0026_MR1/RAW/mpr-1.nifti.img OAS2_RAW/OAS2_0026_MR2/RAW/mpr-1.nifti.img\n",
            "13 OAS2_RAW/OAS2_0156_MR1/RAW/mpr-1.nifti.img OAS2_RAW/OAS2_0156_MR2/RAW/mpr-1.nifti.img\n",
            "14 OAS2_RAW/OAS2_0157_MR1/RAW/mpr-1.nifti.img OAS2_RAW/OAS2_0157_MR2/RAW/mpr-1.nifti.img\n",
            "15 OAS2_RAW/OAS2_0087_MR1/RAW/mpr-1.nifti.img OAS2_RAW/OAS2_0087_MR2/RAW/mpr-1.nifti.img\n",
            "16 OAS2_RAW/OAS2_0071_MR1/RAW/mpr-1.nifti.img OAS2_RAW/OAS2_0071_MR2/RAW/mpr-1.nifti.img\n",
            "17 OAS2_RAW/OAS2_0152_MR1/RAW/mpr-1.nifti.img OAS2_RAW/OAS2_0152_MR2/RAW/mpr-1.nifti.img\n",
            "18 OAS2_RAW/OAS2_0154_MR1/RAW/mpr-1.nifti.img OAS2_RAW/OAS2_0154_MR2/RAW/mpr-1.nifti.img\n",
            "19 OAS2_RAW/OAS2_0129_MR1/RAW/mpr-1.nifti.img OAS2_RAW/OAS2_0129_MR2/RAW/mpr-1.nifti.img\n",
            "20 OAS2_RAW/OAS2_0050_MR1/RAW/mpr-1.nifti.img OAS2_RAW/OAS2_0050_MR2/RAW/mpr-1.nifti.img\n",
            "21 OAS2_RAW/OAS2_0177_MR1/RAW/mpr-1.nifti.img OAS2_RAW/OAS2_0177_MR2/RAW/mpr-1.nifti.img\n",
            "22 OAS2_RAW/OAS2_0100_MR1/RAW/mpr-1.nifti.img OAS2_RAW/OAS2_0100_MR2/RAW/mpr-1.nifti.img\n",
            "23 OAS2_RAW/OAS2_0069_MR1/RAW/mpr-1.nifti.img OAS2_RAW/OAS2_0069_MR2/RAW/mpr-1.nifti.img\n",
            "24 OAS2_RAW/OAS2_0020_MR1/RAW/mpr-1.nifti.img OAS2_RAW/OAS2_0020_MR2/RAW/mpr-1.nifti.img\n",
            "25 OAS2_RAW/OAS2_0040_MR1/RAW/mpr-1.nifti.img OAS2_RAW/OAS2_0040_MR2/RAW/mpr-1.nifti.img\n",
            "26 OAS2_RAW/OAS2_0150_MR1/RAW/mpr-1.nifti.img OAS2_RAW/OAS2_0150_MR2/RAW/mpr-1.nifti.img\n",
            "27 OAS2_RAW/OAS2_0063_MR1/RAW/mpr-1.nifti.img OAS2_RAW/OAS2_0063_MR2/RAW/mpr-1.nifti.img\n",
            "28 OAS2_RAW/OAS2_0096_MR1/RAW/mpr-1.nifti.img OAS2_RAW/OAS2_0096_MR2/RAW/mpr-1.nifti.img\n",
            "29 OAS2_RAW/OAS2_0056_MR1/RAW/mpr-1.nifti.img OAS2_RAW/OAS2_0056_MR2/RAW/mpr-1.nifti.img\n",
            "30 OAS2_RAW/OAS2_0043_MR1/RAW/mpr-1.nifti.img OAS2_RAW/OAS2_0043_MR2/RAW/mpr-1.nifti.img\n",
            "31 OAS2_RAW/OAS2_0146_MR1/RAW/mpr-1.nifti.img OAS2_RAW/OAS2_0146_MR2/RAW/mpr-1.nifti.img\n",
            "32 OAS2_RAW/OAS2_0031_MR1/RAW/mpr-1.nifti.img OAS2_RAW/OAS2_0031_MR2/RAW/mpr-1.nifti.img\n",
            "33 OAS2_RAW/OAS2_0035_MR1/RAW/mpr-1.nifti.img OAS2_RAW/OAS2_0035_MR2/RAW/mpr-1.nifti.img\n",
            "34 OAS2_RAW/OAS2_0095_MR1/RAW/mpr-1.nifti.img OAS2_RAW/OAS2_0095_MR2/RAW/mpr-1.nifti.img\n",
            "35 OAS2_RAW/OAS2_0080_MR1/RAW/mpr-1.nifti.img OAS2_RAW/OAS2_0080_MR2/RAW/mpr-1.nifti.img\n",
            "36 OAS2_RAW/OAS2_0054_MR1/RAW/mpr-1.nifti.img OAS2_RAW/OAS2_0054_MR2/RAW/mpr-1.nifti.img\n",
            "37 OAS2_RAW/OAS2_0051_MR1/RAW/mpr-1.nifti.img OAS2_RAW/OAS2_0051_MR2/RAW/mpr-1.nifti.img\n",
            "38 OAS2_RAW/OAS2_0018_MR1/RAW/mpr-1.nifti.img OAS2_RAW/OAS2_0018_MR3/RAW/mpr-1.nifti.img\n",
            "39 OAS2_RAW/OAS2_0088_MR1/RAW/mpr-1.nifti.img OAS2_RAW/OAS2_0088_MR2/RAW/mpr-1.nifti.img\n",
            "40 OAS2_RAW/OAS2_0171_MR1/RAW/mpr-1.nifti.img OAS2_RAW/OAS2_0171_MR2/RAW/mpr-1.nifti.img\n",
            "41 OAS2_RAW/OAS2_0122_MR1/RAW/mpr-1.nifti.img OAS2_RAW/OAS2_0122_MR2/RAW/mpr-1.nifti.img\n",
            "42 OAS2_RAW/OAS2_0047_MR1/RAW/mpr-1.nifti.img OAS2_RAW/OAS2_0047_MR2/RAW/mpr-1.nifti.img\n",
            "43 OAS2_RAW/OAS2_0062_MR1/RAW/mpr-1.nifti.img OAS2_RAW/OAS2_0062_MR2/RAW/mpr-1.nifti.img\n",
            "44 OAS2_RAW/OAS2_0119_MR1/RAW/mpr-1.nifti.img OAS2_RAW/OAS2_0119_MR2/RAW/mpr-1.nifti.img\n",
            "45 OAS2_RAW/OAS2_0126_MR1/RAW/mpr-1.nifti.img OAS2_RAW/OAS2_0126_MR2/RAW/mpr-1.nifti.img\n",
            "46 OAS2_RAW/OAS2_0099_MR1/RAW/mpr-1.nifti.img OAS2_RAW/OAS2_0099_MR2/RAW/mpr-1.nifti.img\n",
            "47 OAS2_RAW/OAS2_0141_MR1/RAW/mpr-1.nifti.img OAS2_RAW/OAS2_0141_MR2/RAW/mpr-1.nifti.img\n",
            "48 OAS2_RAW/OAS2_0070_MR1/RAW/mpr-1.nifti.img OAS2_RAW/OAS2_0070_MR2/RAW/mpr-1.nifti.img\n",
            "49 OAS2_RAW/OAS2_0124_MR1/RAW/mpr-1.nifti.img OAS2_RAW/OAS2_0124_MR2/RAW/mpr-1.nifti.img\n",
            "50 OAS2_RAW/OAS2_0009_MR1/RAW/mpr-1.nifti.img OAS2_RAW/OAS2_0009_MR2/RAW/mpr-1.nifti.img\n",
            "51 OAS2_RAW/OAS2_0042_MR1/RAW/mpr-1.nifti.img OAS2_RAW/OAS2_0042_MR2/RAW/mpr-1.nifti.img\n",
            "52 OAS2_RAW/OAS2_0007_MR1/RAW/mpr-1.nifti.img OAS2_RAW/OAS2_0007_MR3/RAW/mpr-1.nifti.img\n",
            "53 OAS2_RAW/OAS2_0073_MR1/RAW/mpr-1.nifti.img OAS2_RAW/OAS2_0073_MR2/RAW/mpr-1.nifti.img\n",
            "54 OAS2_RAW/OAS2_0185_MR1/RAW/mpr-1.nifti.img OAS2_RAW/OAS2_0185_MR2/RAW/mpr-1.nifti.img\n",
            "55 OAS2_RAW/OAS2_0089_MR1/RAW/mpr-1.nifti.img OAS2_RAW/OAS2_0089_MR3/RAW/mpr-1.nifti.img\n",
            "56 OAS2_RAW/OAS2_0030_MR1/RAW/mpr-1.nifti.img OAS2_RAW/OAS2_0030_MR2/RAW/mpr-1.nifti.img\n",
            "57 OAS2_RAW/OAS2_0128_MR1/RAW/mpr-1.nifti.img OAS2_RAW/OAS2_0128_MR2/RAW/mpr-1.nifti.img\n",
            "58 OAS2_RAW/OAS2_0159_MR1/RAW/mpr-1.nifti.img OAS2_RAW/OAS2_0159_MR2/RAW/mpr-1.nifti.img\n",
            "59 OAS2_RAW/OAS2_0055_MR1/RAW/mpr-1.nifti.img OAS2_RAW/OAS2_0055_MR2/RAW/mpr-1.nifti.img\n",
            "60 OAS2_RAW/OAS2_0142_MR1/RAW/mpr-1.nifti.img OAS2_RAW/OAS2_0142_MR2/RAW/mpr-1.nifti.img\n",
            "61 OAS2_RAW/OAS2_0160_MR1/RAW/mpr-1.nifti.img OAS2_RAW/OAS2_0160_MR2/RAW/mpr-1.nifti.img\n",
            "62 OAS2_RAW/OAS2_0109_MR1/RAW/mpr-1.nifti.img OAS2_RAW/OAS2_0109_MR2/RAW/mpr-1.nifti.img\n",
            "63 OAS2_RAW/OAS2_0081_MR1/RAW/mpr-1.nifti.img OAS2_RAW/OAS2_0081_MR2/RAW/mpr-1.nifti.img\n",
            "64 OAS2_RAW/OAS2_0108_MR1/RAW/mpr-1.nifti.img OAS2_RAW/OAS2_0108_MR2/RAW/mpr-1.nifti.img\n",
            "65 OAS2_RAW/OAS2_0002_MR1/RAW/mpr-1.nifti.img OAS2_RAW/OAS2_0002_MR2/RAW/mpr-1.nifti.img\n",
            "66 OAS2_RAW/OAS2_0044_MR1/RAW/mpr-1.nifti.img OAS2_RAW/OAS2_0044_MR2/RAW/mpr-1.nifti.img\n",
            "67 OAS2_RAW/OAS2_0067_MR1/RAW/mpr-1.nifti.img OAS2_RAW/OAS2_0067_MR2/RAW/mpr-1.nifti.img\n",
            "68 OAS2_RAW/OAS2_0121_MR1/RAW/mpr-1.nifti.img OAS2_RAW/OAS2_0121_MR2/RAW/mpr-1.nifti.img\n",
            "69 OAS2_RAW/OAS2_0165_MR1/RAW/mpr-1.nifti.img OAS2_RAW/OAS2_0165_MR2/RAW/mpr-1.nifti.img\n",
            "70 OAS2_RAW/OAS2_0068_MR1/RAW/mpr-1.nifti.img OAS2_RAW/OAS2_0068_MR2/RAW/mpr-1.nifti.img\n",
            "71 OAS2_RAW/OAS2_0176_MR1/RAW/mpr-1.nifti.img OAS2_RAW/OAS2_0176_MR2/RAW/mpr-1.nifti.img\n",
            "72 OAS2_RAW/OAS2_0010_MR1/RAW/mpr-1.nifti.img OAS2_RAW/OAS2_0010_MR2/RAW/mpr-1.nifti.img\n",
            "73 OAS2_RAW/OAS2_0086_MR1/RAW/mpr-1.nifti.img OAS2_RAW/OAS2_0086_MR2/RAW/mpr-1.nifti.img\n",
            "74 OAS2_RAW/OAS2_0098_MR1/RAW/mpr-1.nifti.img OAS2_RAW/OAS2_0098_MR2/RAW/mpr-1.nifti.img\n",
            "75 OAS2_RAW/OAS2_0060_MR1/RAW/mpr-1.nifti.img OAS2_RAW/OAS2_0060_MR2/RAW/mpr-1.nifti.img\n",
            "76 OAS2_RAW/OAS2_0014_MR1/RAW/mpr-1.nifti.img OAS2_RAW/OAS2_0014_MR2/RAW/mpr-1.nifti.img\n",
            "77 OAS2_RAW/OAS2_0028_MR1/RAW/mpr-1.nifti.img OAS2_RAW/OAS2_0028_MR2/RAW/mpr-1.nifti.img\n",
            "78 OAS2_RAW/OAS2_0116_MR1/RAW/mpr-1.nifti.img OAS2_RAW/OAS2_0116_MR2/RAW/mpr-1.nifti.img\n",
            "79 OAS2_RAW/OAS2_0013_MR1/RAW/mpr-1.nifti.img OAS2_RAW/OAS2_0013_MR2/RAW/mpr-1.nifti.img\n",
            "80 OAS2_RAW/OAS2_0127_MR1/RAW/mpr-1.nifti.img OAS2_RAW/OAS2_0127_MR2/RAW/mpr-1.nifti.img\n",
            "81 OAS2_RAW/OAS2_0120_MR1/RAW/mpr-1.nifti.img OAS2_RAW/OAS2_0120_MR2/RAW/mpr-1.nifti.img\n",
            "82 OAS2_RAW/OAS2_0138_MR1/RAW/mpr-1.nifti.img OAS2_RAW/OAS2_0138_MR2/RAW/mpr-1.nifti.img\n",
            "83 OAS2_RAW/OAS2_0012_MR1/RAW/mpr-1.nifti.img OAS2_RAW/OAS2_0012_MR2/RAW/mpr-1.nifti.img\n",
            "84 OAS2_RAW/OAS2_0113_MR1/RAW/mpr-1.nifti.img OAS2_RAW/OAS2_0113_MR2/RAW/mpr-1.nifti.img\n",
            "85 OAS2_RAW/OAS2_0164_MR1/RAW/mpr-1.nifti.img OAS2_RAW/OAS2_0164_MR2/RAW/mpr-1.nifti.img\n",
            "86 OAS2_RAW/OAS2_0183_MR1/RAW/mpr-1.nifti.img OAS2_RAW/OAS2_0183_MR2/RAW/mpr-1.nifti.img\n",
            "87 OAS2_RAW/OAS2_0106_MR1/RAW/mpr-1.nifti.img OAS2_RAW/OAS2_0106_MR2/RAW/mpr-1.nifti.img\n",
            "88 OAS2_RAW/OAS2_0066_MR1/RAW/mpr-1.nifti.img OAS2_RAW/OAS2_0066_MR2/RAW/mpr-1.nifti.img\n",
            "89 OAS2_RAW/OAS2_0045_MR1/RAW/mpr-1.nifti.img OAS2_RAW/OAS2_0045_MR2/RAW/mpr-1.nifti.img\n",
            "90 OAS2_RAW/OAS2_0094_MR1/RAW/mpr-1.nifti.img OAS2_RAW/OAS2_0094_MR2/RAW/mpr-1.nifti.img\n",
            "91 OAS2_RAW/OAS2_0061_MR1/RAW/mpr-1.nifti.img OAS2_RAW/OAS2_0061_MR2/RAW/mpr-1.nifti.img\n",
            "92 OAS2_RAW/OAS2_0075_MR1/RAW/mpr-1.nifti.img OAS2_RAW/OAS2_0075_MR2/RAW/mpr-1.nifti.img\n",
            "93 OAS2_RAW/OAS2_0034_MR1/RAW/mpr-1.nifti.img OAS2_RAW/OAS2_0034_MR2/RAW/mpr-1.nifti.img\n",
            "94 OAS2_RAW/OAS2_0036_MR1/RAW/mpr-1.nifti.img OAS2_RAW/OAS2_0036_MR3/RAW/mpr-1.nifti.img\n",
            "95 OAS2_RAW/OAS2_0090_MR1/RAW/mpr-1.nifti.img OAS2_RAW/OAS2_0090_MR2/RAW/mpr-1.nifti.img\n",
            "96 OAS2_RAW/OAS2_0048_MR1/RAW/mpr-1.nifti.img OAS2_RAW/OAS2_0048_MR2/RAW/mpr-1.nifti.img\n",
            "97 OAS2_RAW/OAS2_0085_MR1/RAW/mpr-1.nifti.img OAS2_RAW/OAS2_0085_MR2/RAW/mpr-1.nifti.img\n",
            "98 OAS2_RAW/OAS2_0052_MR1/RAW/mpr-1.nifti.img OAS2_RAW/OAS2_0052_MR2/RAW/mpr-1.nifti.img\n",
            "99 OAS2_RAW/OAS2_0186_MR1/RAW/mpr-1.nifti.img OAS2_RAW/OAS2_0186_MR2/RAW/mpr-1.nifti.img\n",
            "100 OAS2_RAW/OAS2_0001_MR1/RAW/mpr-1.nifti.img OAS2_RAW/OAS2_0001_MR2/RAW/mpr-1.nifti.img\n",
            "101 OAS2_RAW/OAS2_0079_MR1/RAW/mpr-1.nifti.img OAS2_RAW/OAS2_0079_MR2/RAW/mpr-1.nifti.img\n",
            "102 OAS2_RAW/OAS2_0118_MR1/RAW/mpr-1.nifti.img OAS2_RAW/OAS2_0118_MR2/RAW/mpr-1.nifti.img\n",
            "103 OAS2_RAW/OAS2_0046_MR1/RAW/mpr-1.nifti.img OAS2_RAW/OAS2_0046_MR2/RAW/mpr-1.nifti.img\n",
            "104 OAS2_RAW/OAS2_0027_MR1/RAW/mpr-1.nifti.img OAS2_RAW/OAS2_0027_MR2/RAW/mpr-1.nifti.img\n",
            "105 OAS2_RAW/OAS2_0017_MR1/RAW/mpr-1.nifti.img OAS2_RAW/OAS2_0017_MR3/RAW/mpr-1.nifti.img\n",
            "106 OAS2_RAW/OAS2_0037_MR1/RAW/mpr-1.nifti.img OAS2_RAW/OAS2_0037_MR2/RAW/mpr-1.nifti.img\n",
            "107 OAS2_RAW/OAS2_0064_MR1/RAW/mpr-1.nifti.img OAS2_RAW/OAS2_0064_MR2/RAW/mpr-1.nifti.img\n",
            "108 OAS2_RAW/OAS2_0144_MR1/RAW/mpr-1.nifti.img OAS2_RAW/OAS2_0144_MR2/RAW/mpr-1.nifti.img\n",
            "109 OAS2_RAW/OAS2_0004_MR1/RAW/mpr-1.nifti.img OAS2_RAW/OAS2_0004_MR2/RAW/mpr-1.nifti.img\n",
            "110 OAS2_RAW/OAS2_0022_MR1/RAW/mpr-1.nifti.img OAS2_RAW/OAS2_0022_MR2/RAW/mpr-1.nifti.img\n",
            "111 OAS2_RAW/OAS2_0162_MR1/RAW/mpr-1.nifti.img OAS2_RAW/OAS2_0162_MR2/RAW/mpr-1.nifti.img\n",
            "112 OAS2_RAW/OAS2_0181_MR1/RAW/mpr-1.nifti.img OAS2_RAW/OAS2_0181_MR2/RAW/mpr-1.nifti.img\n",
            "113 OAS2_RAW/OAS2_0005_MR1/RAW/mpr-1.nifti.img OAS2_RAW/OAS2_0005_MR2/RAW/mpr-1.nifti.img\n",
            "114 OAS2_RAW/OAS2_0078_MR1/RAW/mpr-1.nifti.img OAS2_RAW/OAS2_0078_MR2/RAW/mpr-1.nifti.img\n",
            "115 OAS2_RAW/OAS2_0053_MR1/RAW/mpr-1.nifti.img OAS2_RAW/OAS2_0053_MR2/RAW/mpr-1.nifti.img\n",
            "116 OAS2_RAW/OAS2_0049_MR1/RAW/mpr-1.nifti.img OAS2_RAW/OAS2_0049_MR2/RAW/mpr-1.nifti.img\n",
            "117 OAS2_RAW/OAS2_0058_MR1/RAW/mpr-1.nifti.img OAS2_RAW/OAS2_0058_MR2/RAW/mpr-1.nifti.img\n",
            "118 OAS2_RAW/OAS2_0029_MR1/RAW/mpr-1.nifti.img OAS2_RAW/OAS2_0029_MR2/RAW/mpr-1.nifti.img\n",
            "119 OAS2_RAW/OAS2_0184_MR1/RAW/mpr-1.nifti.img OAS2_RAW/OAS2_0184_MR2/RAW/mpr-1.nifti.img\n",
            "120 OAS2_RAW/OAS2_0140_MR1/RAW/mpr-1.nifti.img OAS2_RAW/OAS2_0140_MR2/RAW/mpr-1.nifti.img\n",
            "121 OAS2_RAW/OAS2_0104_MR1/RAW/mpr-1.nifti.img OAS2_RAW/OAS2_0104_MR2/RAW/mpr-1.nifti.img\n",
            "122 OAS2_RAW/OAS2_0112_MR1/RAW/mpr-1.nifti.img OAS2_RAW/OAS2_0112_MR2/RAW/mpr-1.nifti.img\n",
            "123 OAS2_RAW/OAS2_0105_MR1/RAW/mpr-1.nifti.img OAS2_RAW/OAS2_0105_MR2/RAW/mpr-1.nifti.img\n",
            "124 OAS2_RAW/OAS2_0158_MR1/RAW/mpr-1.nifti.img OAS2_RAW/OAS2_0158_MR2/RAW/mpr-1.nifti.img\n",
            "125 OAS2_RAW/OAS2_0008_MR1/RAW/mpr-1.nifti.img OAS2_RAW/OAS2_0008_MR2/RAW/mpr-1.nifti.img\n",
            "126 OAS2_RAW/OAS2_0147_MR1/RAW/mpr-1.nifti.img OAS2_RAW/OAS2_0147_MR2/RAW/mpr-1.nifti.img\n",
            "127 OAS2_RAW/OAS2_0137_MR1/RAW/mpr-1.nifti.img OAS2_RAW/OAS2_0137_MR2/RAW/mpr-1.nifti.img\n",
            "128 OAS2_RAW/OAS2_0021_MR1/RAW/mpr-1.nifti.img OAS2_RAW/OAS2_0021_MR2/RAW/mpr-1.nifti.img\n",
            "129 OAS2_RAW/OAS2_0174_MR1/RAW/mpr-1.nifti.img OAS2_RAW/OAS2_0174_MR2/RAW/mpr-1.nifti.img\n",
            "130 OAS2_RAW/OAS2_0101_MR1/RAW/mpr-1.nifti.img OAS2_RAW/OAS2_0101_MR2/RAW/mpr-1.nifti.img\n",
            "131 OAS2_RAW/OAS2_0114_MR1/RAW/mpr-1.nifti.img OAS2_RAW/OAS2_0114_MR2/RAW/mpr-1.nifti.img\n",
            "132 OAS2_RAW/OAS2_0076_MR1/RAW/mpr-1.nifti.img OAS2_RAW/OAS2_0076_MR2/RAW/mpr-1.nifti.img\n",
            "133 OAS2_RAW/OAS2_0172_MR1/RAW/mpr-1.nifti.img OAS2_RAW/OAS2_0172_MR2/RAW/mpr-1.nifti.img\n",
            "134 OAS2_RAW/OAS2_0143_MR1/RAW/mpr-1.nifti.img OAS2_RAW/OAS2_0143_MR2/RAW/mpr-1.nifti.img\n",
            "135 OAS2_RAW/OAS2_0077_MR1/RAW/mpr-1.nifti.img OAS2_RAW/OAS2_0077_MR2/RAW/mpr-1.nifti.img\n",
            "136 OAS2_RAW/OAS2_0135_MR1/RAW/mpr-1.nifti.img OAS2_RAW/OAS2_0135_MR2/RAW/mpr-1.nifti.img\n",
            "137 OAS2_RAW/OAS2_0134_MR1/RAW/mpr-1.nifti.img OAS2_RAW/OAS2_0134_MR2/RAW/mpr-1.nifti.img\n",
            "138 OAS2_RAW/OAS2_0117_MR1/RAW/mpr-1.nifti.img OAS2_RAW/OAS2_0117_MR2/RAW/mpr-1.nifti.img\n",
            "139 OAS2_RAW/OAS2_0102_MR1/RAW/mpr-1.nifti.img OAS2_RAW/OAS2_0102_MR2/RAW/mpr-1.nifti.img\n",
            "140 OAS2_RAW/OAS2_0169_MR1/RAW/mpr-1.nifti.img OAS2_RAW/OAS2_0169_MR2/RAW/mpr-1.nifti.img\n",
            "141 OAS2_RAW/OAS2_0178_MR1/RAW/mpr-1.nifti.img OAS2_RAW/OAS2_0178_MR2/RAW/mpr-1.nifti.img\n",
            "142 OAS2_RAW/OAS2_0092_MR1/RAW/mpr-1.nifti.img OAS2_RAW/OAS2_0092_MR2/RAW/mpr-1.nifti.img\n",
            "143 OAS2_RAW/OAS2_0057_MR1/RAW/mpr-1.nifti.img OAS2_RAW/OAS2_0057_MR2/RAW/mpr-1.nifti.img\n",
            "144 OAS2_RAW/OAS2_0149_MR1/RAW/mpr-1.nifti.img OAS2_RAW/OAS2_0149_MR2/RAW/mpr-1.nifti.img\n",
            "145 OAS2_RAW/OAS2_0133_MR1/RAW/mpr-1.nifti.img OAS2_RAW/OAS2_0133_MR3/RAW/mpr-1.nifti.img\n",
            "146 OAS2_RAW/OAS2_0131_MR1/RAW/mpr-1.nifti.img OAS2_RAW/OAS2_0131_MR2/RAW/mpr-1.nifti.img\n",
            "147 OAS2_RAW/OAS2_0182_MR1/RAW/mpr-1.nifti.img OAS2_RAW/OAS2_0182_MR2/RAW/mpr-1.nifti.img\n",
            "148 OAS2_RAW/OAS2_0175_MR1/RAW/mpr-1.nifti.img OAS2_RAW/OAS2_0175_MR2/RAW/mpr-1.nifti.img\n",
            "149 OAS2_RAW/OAS2_0041_MR1/RAW/mpr-1.nifti.img OAS2_RAW/OAS2_0041_MR2/RAW/mpr-1.nifti.img\n"
          ]
        }
      ],
      "source": [
        "import nibabel as nib\n",
        "import numpy as np\n",
        "from glob import glob\n",
        "import cv2\n",
        "import pandas as pd\n",
        "import os\n",
        "\n",
        "def read_norm_slice_mri(path):\n",
        "    mri_image = nib.load(path)\n",
        "    image_data = mri_image.get_fdata()\n",
        "    slice_data_normalized = cv2.normalize(image_data[:,:,64,0], None, 0, 255, cv2.NORM_MINMAX)\n",
        "    slice_data_normalized = slice_data_normalized.astype(np.uint8)\n",
        "    rotated_image = cv2.rotate(slice_data_normalized, cv2.ROTATE_90_COUNTERCLOCKWISE)\n",
        "    return rotated_image\n",
        "\n",
        "\n",
        "# Load the CSV file\n",
        "file_path = 'labels/oasis_longitudinal.csv'  # Replace with your file path\n",
        "df = pd.read_csv(file_path)\n",
        "\n",
        "# Read a specific column\n",
        "mri_path = df['MRI ID']\n",
        "label = df['Group']\n",
        "patient_ids = df['Subject ID']\n",
        "\n",
        "unique_patient_ids = list(set(patient_ids))\n",
        "for idx, patient_id in enumerate(unique_patient_ids):\n",
        "    path1 = glob ('OAS2_RAW/'+patient_id+'_MR1/*/mpr-1.nifti.img')[0]\n",
        "    patient_mri1 = patient_id+'_MR1'\n",
        "    if patient_id in ['OAS2_0133', 'OAS2_0007', 'OAS2_0017', 'OAS2_0018','OAS2_0036', 'OAS2_0089']:\n",
        "        path2 = glob ('OAS2_RAW/'+patient_id+'_MR3/*/mpr-1.nifti.img')[0]\n",
        "\n",
        "    else:\n",
        "        path2 = glob ('OAS2_RAW/'+patient_id+'_MR2/*/mpr-1.nifti.img')[0]\n",
        "\n",
        "    patient_mri2 = patient_id+'_MR2'\n",
        "    print(idx, path1, path2)\n",
        "    rotated_image1 = read_norm_slice_mri(path1)\n",
        "    rotated_image2 = read_norm_slice_mri(path2)\n",
        "    root_out = 'OAS2_Longitudinal/' + patient_id\n",
        "    os.makedirs(root_out, exist_ok=True)\n",
        "    out_path1 = os.path.join(root_out, patient_mri1 + '.png')\n",
        "    out_path2 = os.path.join(root_out, patient_mri2 + '.png')\n",
        "    cv2.imwrite(out_path1, rotated_image1)\n",
        "    cv2.imwrite(out_path2, rotated_image2)\n",
        "\n",
        ""
      ]
    },
    {
      "cell_type": "code",
      "execution_count": null,
      "id": "55db9c86-c36e-4fed-975e-e593efd5fd45",
      "metadata": {
        "id": "55db9c86-c36e-4fed-975e-e593efd5fd45"
      },
      "outputs": [],
      "source": [
        "unique_df = df[['Subject ID', 'Group']].drop_duplicates(subset=['Subject ID'])\n",
        "unique_df.rename(columns={'Subject ID': 'patient_id', 'Group': 'label'}, inplace=True)\n",
        "# Save the unique IDs to a CSV file\n",
        "output_file = 'oasis_longitudinal_label.csv'\n",
        "unique_df.to_csv(output_file, index=False)"
      ]
    },
    {
      "cell_type": "code",
      "execution_count": null,
      "id": "10f8c846-ff45-45bb-97da-8af4cc402d57",
      "metadata": {
        "id": "10f8c846-ff45-45bb-97da-8af4cc402d57"
      },
      "outputs": [],
      "source": []
    }
  ],
  "metadata": {
    "kernelspec": {
      "display_name": "Python 3 (ipykernel)",
      "language": "python",
      "name": "python3"
    },
    "language_info": {
      "codemirror_mode": {
        "name": "ipython",
        "version": 3
      },
      "file_extension": ".py",
      "mimetype": "text/x-python",
      "name": "python",
      "nbconvert_exporter": "python",
      "pygments_lexer": "ipython3",
      "version": "3.11.7"
    },
    "colab": {
      "provenance": [],
      "include_colab_link": true
    }
  },
  "nbformat": 4,
  "nbformat_minor": 5
}