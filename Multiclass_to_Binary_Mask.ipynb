{
  "nbformat": 4,
  "nbformat_minor": 0,
  "metadata": {
    "colab": {
      "provenance": [],
      "include_colab_link": true
    },
    "kernelspec": {
      "display_name": "Python 3",
      "name": "python3"
    }
  },
  "cells": [
    {
      "cell_type": "markdown",
      "metadata": {
        "id": "view-in-github",
        "colab_type": "text"
      },
      "source": [
        "<a href=\"https://colab.research.google.com/github/mobarakol/tutorial_notebooks/blob/main/Multiclass_to_Binary_Mask.ipynb\" target=\"_parent\"><img src=\"https://colab.research.google.com/assets/colab-badge.svg\" alt=\"Open In Colab\"/></a>"
      ]
    },
    {
      "cell_type": "markdown",
      "metadata": {
        "id": "AQ5MCVytMBzZ"
      },
      "source": [
        "#Multiclass_to_binary_mask"
      ]
    },
    {
      "cell_type": "markdown",
      "metadata": {
        "id": "DiSbpb1EwjnY"
      },
      "source": [
        "Downloading SVLS and Surface Dice codes"
      ]
    },
    {
      "cell_type": "markdown",
      "metadata": {
        "id": "QZNhk4-Od3FR"
      },
      "source": [
        "Install require packages:"
      ]
    },
    {
      "cell_type": "code",
      "metadata": {
        "colab": {
          "base_uri": "https://localhost:8080/"
        },
        "id": "JdbUhZNUd6kl",
        "outputId": "e38fd072-ce65-409d-eeb4-cfa54fbb0324"
      },
      "source": [
        "!pip install -U -q SimpleITK"
      ],
      "execution_count": 2,
      "outputs": [
        {
          "output_type": "stream",
          "name": "stdout",
          "text": [
            "\u001b[2K   \u001b[90m━━━━━━━━━━━━━━━━━━━━━━━━━━━━━━━━━━━━━━━━\u001b[0m \u001b[32m52.3/52.3 MB\u001b[0m \u001b[31m10.3 MB/s\u001b[0m eta \u001b[36m0:00:00\u001b[0m\n",
            "\u001b[?25h"
          ]
        }
      ]
    },
    {
      "cell_type": "markdown",
      "metadata": {
        "id": "FBq96oSpM7Da"
      },
      "source": [
        "### Download Dataset and Trained Models"
      ]
    },
    {
      "cell_type": "code",
      "source": [
        "!gdown 1oZ9z-l9lBjKGNZCCTK819Z1ufwe90mg3\n",
        "!unzip -q train_valid.zip"
      ],
      "metadata": {
        "colab": {
          "base_uri": "https://localhost:8080/"
        },
        "id": "uI5vbv85BzR_",
        "outputId": "45cf20a0-7922-40be-c6eb-3a82246491d9"
      },
      "execution_count": 3,
      "outputs": [
        {
          "output_type": "stream",
          "name": "stdout",
          "text": [
            "Downloading...\n",
            "From (original): https://drive.google.com/uc?id=1oZ9z-l9lBjKGNZCCTK819Z1ufwe90mg3\n",
            "From (redirected): https://drive.google.com/uc?id=1oZ9z-l9lBjKGNZCCTK819Z1ufwe90mg3&confirm=t&uuid=ca667cad-b1d1-47c4-9040-cdbd2aa29cc6\n",
            "To: /content/SVLS/train_valid.zip\n",
            "100% 535M/535M [00:08<00:00, 59.8MB/s]\n"
          ]
        }
      ]
    },
    {
      "cell_type": "code",
      "source": [
        "import SimpleITK as sitk\n",
        "import numpy as np\n",
        "\n",
        "path_folder = '/content/SVLS/train_valid/BraTS19_2013_0_1/BraTS19_2013_0_1_seg.nii.gz'\n",
        "\n",
        "# Load the NIfTI image\n",
        "mask_mutliclass = sitk.ReadImage(path_folder)\n",
        "\n",
        "# Extract metadata (header information)\n",
        "origin = mask_mutliclass.GetOrigin()  # Spatial position of the image\n",
        "spacing = mask_mutliclass.GetSpacing()  # Voxel size\n",
        "direction = mask_mutliclass.GetDirection()  # Orientation matrix\n",
        "\n",
        "# Print header information\n",
        "print(\"Origin:\", origin)\n",
        "print(\"Spacing:\", spacing)\n",
        "print(\"Direction:\", direction)\n",
        "\n",
        "# Extract mask data as an array and split it to binary mask\n",
        "\n",
        "mask_mutliclass_array = sitk.GetArrayFromImage(mask_mutliclass)\n",
        "list_classes = np.unique(mask_mutliclass_array)[1:] #[1:] to ignore background\n",
        "for cls in list_classes:\n",
        "    mask_class_ = np.zeros (mask_mutliclass_array.shape)\n",
        "    mask_class_[mask_mutliclass_array==cls] = 1\n",
        "    output_image = sitk.GetImageFromArray(mask_class_)\n",
        "    output_image.SetOrigin(origin)\n",
        "    output_image.SetSpacing(spacing)\n",
        "    output_image.SetDirection(direction)\n",
        "    sitk.WriteImage(output_image, \"binary_mask_cls_{}.nii.gz\".format(cls))\n",
        "\n",
        "\n"
      ],
      "metadata": {
        "colab": {
          "base_uri": "https://localhost:8080/"
        },
        "id": "mQQZVqtVNq_4",
        "outputId": "12fb0928-345c-42de-cde8-ecdd716b4b2c"
      },
      "execution_count": 15,
      "outputs": [
        {
          "output_type": "stream",
          "name": "stdout",
          "text": [
            "Origin: (0.0, -239.0, 0.0)\n",
            "Spacing: (1.0, 1.0, 1.0)\n",
            "Direction: (1.0, 0.0, 0.0, 0.0, 1.0, 0.0, 0.0, 0.0, 1.0)\n"
          ]
        }
      ]
    },
    {
      "cell_type": "code",
      "source": [
        "import matplotlib.pyplot as plt\n",
        "mask_class_1 = sitk.GetArrayFromImage(sitk.ReadImage('/content/SVLS/binary_mask_cls_1.nii.gz'))\n",
        "mask_class_2 = sitk.GetArrayFromImage(sitk.ReadImage('/content/SVLS/binary_mask_cls_2.nii.gz'))\n",
        "mask_class_4 = sitk.GetArrayFromImage(sitk.ReadImage('/content/SVLS/binary_mask_cls_4.nii.gz'))\n",
        "\n",
        "plt.figure(figsize=(16, 4))  # Adjust figure size\n",
        "plt.subplot(1,4,1);plt.imshow(mask_mutliclass_array[60])\n",
        "plt.axis('OFF');\n",
        "plt.title(\"Multiclass\");\n",
        "\n",
        "plt.subplot(1,4,2);plt.imshow(mask_class_1[60])\n",
        "plt.axis('OFF');\n",
        "plt.title(\"Class_1\");\n",
        "\n",
        "plt.subplot(1,4,3);plt.imshow(mask_class_2[60])\n",
        "plt.axis('OFF');\n",
        "plt.title(\"Class_2\");\n",
        "\n",
        "plt.subplot(1,4,4);plt.imshow(mask_class_4[60])\n",
        "plt.axis('OFF');\n",
        "plt.title(\"Class_4\");"
      ],
      "metadata": {
        "colab": {
          "base_uri": "https://localhost:8080/",
          "height": 328
        },
        "id": "a5SOY1wUPeV-",
        "outputId": "912f5238-ea26-4d4b-cf70-96a8e7048ca9"
      },
      "execution_count": 42,
      "outputs": [
        {
          "output_type": "display_data",
          "data": {
            "text/plain": [
              "<Figure size 1600x400 with 4 Axes>"
            ],
            "image/png": "[encoded data removed]"
          },
          "metadata": {}
        }
      ]
    },
    {
      "cell_type": "code",
      "source": [],
      "metadata": {
        "id": "WxNNid3BPhlH"
      },
      "execution_count": null,
      "outputs": []
    }
  ]
}