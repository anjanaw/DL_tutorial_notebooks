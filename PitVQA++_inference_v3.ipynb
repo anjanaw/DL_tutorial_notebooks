{
  "nbformat": 4,
  "nbformat_minor": 0,
  "metadata": {
    "colab": {
      "provenance": [],
      "gpuType": "T4",
      "include_colab_link": true
    },
    "kernelspec": {
      "name": "python3",
      "display_name": "Python 3"
    },
    "language_info": {
      "name": "python"
    },
    "accelerator": "GPU"
  },
  "cells": [
    {
      "cell_type": "markdown",
      "metadata": {
        "id": "view-in-github",
        "colab_type": "text"
      },
      "source": [
        "<a href=\"https://colab.research.google.com/github/mobarakol/tutorial_notebooks/blob/main/PitVQA%2B%2B_inference_v3.ipynb\" target=\"_parent\"><img src=\"https://colab.research.google.com/assets/colab-badge.svg\" alt=\"Open In Colab\"/></a>"
      ]
    },
    {
      "cell_type": "code",
      "source": [
        "# download dataset\n",
        "!gdown 1FoAEY_u0PTAlrscjEifi2om15A83wL78\n",
        "\n",
        "# unzip dataset\n",
        "!unzip -q EndoVis-18-VQA.zip"
      ],
      "metadata": {
        "colab": {
          "base_uri": "https://localhost:8080/"
        },
        "id": "qO26wWDITwmm",
        "outputId": "46ca6e4f-72a5-4f1c-c992-50784fa9a6a5"
      },
      "execution_count": 1,
      "outputs": [
        {
          "output_type": "stream",
          "name": "stdout",
          "text": [
            "Downloading...\n",
            "From (original): https://drive.google.com/uc?id=1FoAEY_u0PTAlrscjEifi2om15A83wL78\n",
            "From (redirected): https://drive.google.com/uc?id=1FoAEY_u0PTAlrscjEifi2om15A83wL78&confirm=t&uuid=de0757f0-b2bd-4f19-bd30-27018a45f067\n",
            "To: /content/EndoVis-18-VQA.zip\n",
            "100% 2.71G/2.71G [00:48<00:00, 55.9MB/s]\n"
          ]
        }
      ]
    },
    {
      "cell_type": "code",
      "source": [
        "# download weights\n",
        "!gdown 1MkKw8sRkG_ffW8sAqbCkdfsY-rECBgLI"
      ],
      "metadata": {
        "colab": {
          "base_uri": "https://localhost:8080/"
        },
        "id": "wVBP30BhUL2V",
        "outputId": "e7309166-e260-4f72-bbeb-cdfdcc0636e4"
      },
      "execution_count": 2,
      "outputs": [
        {
          "output_type": "stream",
          "name": "stdout",
          "text": [
            "Downloading...\n",
            "From (original): https://drive.google.com/uc?id=1MkKw8sRkG_ffW8sAqbCkdfsY-rECBgLI\n",
            "From (redirected): https://drive.google.com/uc?id=1MkKw8sRkG_ffW8sAqbCkdfsY-rECBgLI&confirm=t&uuid=35b2ab86-48d7-459b-ba4c-4d35e2f9045a\n",
            "To: /content/vec_mlr_saved_weights.pth.tar\n",
            "100% 3.39G/3.39G [00:59<00:00, 56.7MB/s]\n"
          ]
        }
      ]
    },
    {
      "cell_type": "code",
      "source": [
        "!gdown 1Te3qSOZxmRBbqhT1o4-AMH74a2G9kK5_"
      ],
      "metadata": {
        "colab": {
          "base_uri": "https://localhost:8080/"
        },
        "id": "RRMgPzU4xh5u",
        "outputId": "1aa4164c-b708-42ee-c137-2e8fda8b417c"
      },
      "execution_count": 3,
      "outputs": [
        {
          "output_type": "stream",
          "name": "stdout",
          "text": [
            "Downloading...\n",
            "From (original): https://drive.google.com/uc?id=1Te3qSOZxmRBbqhT1o4-AMH74a2G9kK5_\n",
            "From (redirected): https://drive.google.com/uc?id=1Te3qSOZxmRBbqhT1o4-AMH74a2G9kK5_&confirm=t&uuid=0eabd6f3-a418-4b44-9926-16121e6bf5a4\n",
            "To: /content/model.py\n",
            "\r  0% 0.00/8.65k [00:00<?, ?B/s]\r100% 8.65k/8.65k [00:00<00:00, 25.0MB/s]\n"
          ]
        }
      ]
    },
    {
      "cell_type": "code",
      "source": [
        "# install libs\n",
        "!pip install -q timm==0.9.12 fairscale==0.4.13 scikit-learn==1.3.2 evaluate rouge_score"
      ],
      "metadata": {
        "colab": {
          "base_uri": "https://localhost:8080/"
        },
        "id": "roSHkq4IT0BZ",
        "outputId": "ffcbceba-4f56-476a-ff48-ec91aae00e71"
      },
      "execution_count": 4,
      "outputs": [
        {
          "output_type": "stream",
          "name": "stdout",
          "text": [
            "\u001b[?25l     \u001b[90m━━━━━━━━━━━━━━━━━━━━━━━━━━━━━━━━━━━━━━━━\u001b[0m \u001b[32m0.0/60.6 kB\u001b[0m \u001b[31m?\u001b[0m eta \u001b[36m-:--:--\u001b[0m\r\u001b[2K     \u001b[90m━━━━━━━━━━━━━━━━━━━━━━━━━━━━━━━━━━━━━━━━\u001b[0m \u001b[32m60.6/60.6 kB\u001b[0m \u001b[31m5.4 MB/s\u001b[0m eta \u001b[36m0:00:00\u001b[0m\n",
            "\u001b[?25h\u001b[?25l     \u001b[90m━━━━━━━━━━━━━━━━━━━━━━━━━━━━━━━━━━━━━━━━\u001b[0m \u001b[32m0.0/266.3 kB\u001b[0m \u001b[31m?\u001b[0m eta \u001b[36m-:--:--\u001b[0m\r\u001b[2K     \u001b[90m━━━━━━━━━━━━━━━━━━━━━━━━━━━━━━━━━━━━━━━━\u001b[0m \u001b[32m266.3/266.3 kB\u001b[0m \u001b[31m19.8 MB/s\u001b[0m eta \u001b[36m0:00:00\u001b[0m\n",
            "\u001b[?25h  Installing build dependencies ... \u001b[?25l\u001b[?25hdone\n",
            "  Getting requirements to build wheel ... \u001b[?25l\u001b[?25hdone\n",
            "  Installing backend dependencies ... \u001b[?25l\u001b[?25hdone\n",
            "  Preparing metadata (pyproject.toml) ... \u001b[?25l\u001b[?25hdone\n",
            "  Preparing metadata (setup.py) ... \u001b[?25l\u001b[?25hdone\n",
            "\u001b[2K   \u001b[90m━━━━━━━━━━━━━━━━━━━━━━━━━━━━━━━━━━━━━━━━\u001b[0m \u001b[32m2.2/2.2 MB\u001b[0m \u001b[31m85.2 MB/s\u001b[0m eta \u001b[36m0:00:00\u001b[0m\n",
            "\u001b[2K   \u001b[90m━━━━━━━━━━━━━━━━━━━━━━━━━━━━━━━━━━━━━━━━\u001b[0m \u001b[32m10.9/10.9 MB\u001b[0m \u001b[31m73.3 MB/s\u001b[0m eta \u001b[36m0:00:00\u001b[0m\n",
            "\u001b[2K   \u001b[90m━━━━━━━━━━━━━━━━━━━━━━━━━━━━━━━━━━━━━━━━\u001b[0m \u001b[32m84.0/84.0 kB\u001b[0m \u001b[31m8.3 MB/s\u001b[0m eta \u001b[36m0:00:00\u001b[0m\n",
            "\u001b[2K   \u001b[90m━━━━━━━━━━━━━━━━━━━━━━━━━━━━━━━━━━━━━━━━\u001b[0m \u001b[32m480.6/480.6 kB\u001b[0m \u001b[31m41.0 MB/s\u001b[0m eta \u001b[36m0:00:00\u001b[0m\n",
            "\u001b[2K   \u001b[90m━━━━━━━━━━━━━━━━━━━━━━━━━━━━━━━━━━━━━━━━\u001b[0m \u001b[32m116.3/116.3 kB\u001b[0m \u001b[31m12.5 MB/s\u001b[0m eta \u001b[36m0:00:00\u001b[0m\n",
            "\u001b[2K   \u001b[90m━━━━━━━━━━━━━━━━━━━━━━━━━━━━━━━━━━━━━━━━\u001b[0m \u001b[32m179.3/179.3 kB\u001b[0m \u001b[31m20.1 MB/s\u001b[0m eta \u001b[36m0:00:00\u001b[0m\n",
            "\u001b[2K   \u001b[90m━━━━━━━━━━━━━━━━━━━━━━━━━━━━━━━━━━━━━━━━\u001b[0m \u001b[32m143.5/143.5 kB\u001b[0m \u001b[31m13.4 MB/s\u001b[0m eta \u001b[36m0:00:00\u001b[0m\n",
            "\u001b[2K   \u001b[90m━━━━━━━━━━━━━━━━━━━━━━━━━━━━━━━━━━━━━━━━\u001b[0m \u001b[32m194.8/194.8 kB\u001b[0m \u001b[31m16.3 MB/s\u001b[0m eta \u001b[36m0:00:00\u001b[0m\n",
            "\u001b[?25h  Building wheel for fairscale (pyproject.toml) ... \u001b[?25l\u001b[?25hdone\n",
            "  Building wheel for rouge_score (setup.py) ... \u001b[?25l\u001b[?25hdone\n",
            "\u001b[31mERROR: pip's dependency resolver does not currently take into account all the packages that are installed. This behaviour is the source of the following dependency conflicts.\n",
            "gcsfs 2024.10.0 requires fsspec==2024.10.0, but you have fsspec 2024.9.0 which is incompatible.\u001b[0m\u001b[31m\n",
            "\u001b[0m"
          ]
        }
      ]
    },
    {
      "cell_type": "markdown",
      "source": [
        "## Dataloader"
      ],
      "metadata": {
        "id": "cmGlSUl1Vn8f"
      }
    },
    {
      "cell_type": "code",
      "source": [
        "import os\n",
        "import glob\n",
        "\n",
        "from PIL import Image\n",
        "from torch.utils.data import Dataset\n",
        "import torchvision.transforms as transforms\n",
        "from torchvision.transforms.functional import InterpolationMode\n",
        "from pathlib import Path\n",
        "\n",
        "class EndoVis18VQA(Dataset):\n",
        "    def __init__(self, seq, folder_head, folder_tail):\n",
        "\n",
        "        self.transform = transforms.Compose([\n",
        "            transforms.Resize((224, 224), interpolation=InterpolationMode.BICUBIC),\n",
        "            transforms.ToTensor(),\n",
        "            transforms.Normalize(mean=[0.485, 0.456, 0.406], std=[0.229, 0.224, 0.225])\n",
        "        ])\n",
        "\n",
        "        # files, question and answers\n",
        "        filenames = []\n",
        "        for curr_seq in seq:\n",
        "            filenames = filenames + glob.glob(folder_head + str(curr_seq) + folder_tail)\n",
        "        self.vqas = []\n",
        "        for file in filenames:\n",
        "            file_data = open(file, \"r\")\n",
        "            lines = [line.strip(\"\\n\") for line in file_data if line != \"\\n\"]\n",
        "            file_data.close()\n",
        "            for line in lines:\n",
        "                self.vqas.append([file, line])\n",
        "        print('Total files: %d | Total question: %.d' % (len(filenames), len(self.vqas)))\n",
        "\n",
        "    def __len__(self):\n",
        "        return len(self.vqas)\n",
        "\n",
        "    def __getitem__(self, idx):\n",
        "        qa_full_path = Path(self.vqas[idx][0])\n",
        "        seq_path = qa_full_path.parents[2]\n",
        "        file_name = self.vqas[idx][0].split('/')[-1]  # / in linux and \\\\ in windows\n",
        "\n",
        "        # img\n",
        "        img_loc = os.path.join(seq_path, 'left_fr', file_name.split('_')[0] + '.png')\n",
        "        raw_image = Image.open(img_loc).convert('RGB')\n",
        "        img = self.transform(raw_image)\n",
        "\n",
        "        # question and answer\n",
        "        question, answer = self.vqas[idx][1].split('|')\n",
        "        return img, question, answer"
      ],
      "metadata": {
        "id": "c8I8isToVlND"
      },
      "execution_count": 5,
      "outputs": []
    },
    {
      "cell_type": "markdown",
      "source": [
        "## Model"
      ],
      "metadata": {
        "id": "FuRN27gFVxAt"
      }
    },
    {
      "cell_type": "code",
      "source": [
        "import math\n",
        "import torch\n",
        "import torch.nn as nn\n",
        "\n",
        "from transformers import GPT2Tokenizer, GPT2LMHeadModel\n",
        "from transformers import ViTModel, BlipTextModel\n",
        "\n",
        "device = torch.device('cuda' if torch.cuda.is_available() else 'cpu')\n",
        "\n",
        "class Vector_MoLoRA(nn.Module):\n",
        "    def __init__(self, base_layer, lora_rank, alpha, mora_rank, dropout):\n",
        "        super().__init__()\n",
        "        self.base_layer = base_layer  # original c_atten layer\n",
        "        self.lora_r = lora_rank\n",
        "        self.scaling = alpha / lora_rank\n",
        "        self.mora_r = mora_rank  # one of mora rank elements in the list\n",
        "        self.in_features = base_layer.weight.shape[0]  # 768\n",
        "        self.out_features = base_layer.weight.shape[1]  # 2304\n",
        "\n",
        "        # dropout\n",
        "        self.dropout = nn.ModuleDict({\n",
        "            'default': nn.Dropout(p=dropout)\n",
        "        })\n",
        "\n",
        "        # MoRA A and B matrices\n",
        "        self.mora_A = nn.ModuleDict({\n",
        "            'default': nn.Conv1d(self.mora_r, self.mora_r, bias=False, kernel_size=1)\n",
        "        })\n",
        "        # zero init for mora_A\n",
        "        nn.init.zeros_(self.mora_A['default'].weight)\n",
        "        self.mora_B = self.mora_A  # not for use\n",
        "\n",
        "        # LoRA C and D matrices\n",
        "        self.lora_C = nn.ModuleDict({\n",
        "            'default': nn.Linear(self.in_features, self.lora_r, bias=False)\n",
        "        })\n",
        "        self.lora_D = nn.ModuleDict({\n",
        "            'default': nn.Linear(self.lora_r, self.out_features, bias=False)\n",
        "        })\n",
        "        # Kaiming init for lora_C\n",
        "        nn.init.kaiming_uniform_(self.lora_C['default'].weight, a=math.sqrt(5))\n",
        "        # zero init for lora_D\n",
        "        nn.init.zeros_(self.lora_D['default'].weight)\n",
        "\n",
        "        # For Embedding layer\n",
        "        self.lora_embedding_A = nn.ParameterDict({})\n",
        "        self.lora_embedding_B = nn.ParameterDict({})\n",
        "\n",
        "    def forward(self, x):  # [32, 32, 768]\n",
        "        # Original output\n",
        "        result = self.base_layer(x)  # [32, 32, 2304]\n",
        "        x = self.dropout['default'](x)  # x is the input for mora\n",
        "\n",
        "        '''Process with LoRA'''\n",
        "        lora_out_x = self.lora_D['default'](\n",
        "            self.lora_C['default'](x)\n",
        "        )  # [32, 32, 2304]\n",
        "\n",
        "        '''Process with MoRA'''\n",
        "        # apply compression before lora_A: RoPE\n",
        "        in_f, out_f = self.in_features, self.out_features\n",
        "        r = self.mora_r\n",
        "        # suppose mora_type = 6\n",
        "        sum_inter = in_f // r\n",
        "        rb1 = in_f // r if in_f % r == 0 else in_f // r + 1\n",
        "\n",
        "        if in_f % r != 0:\n",
        "            pad_size = r - in_f % r\n",
        "            x = torch.cat([x, x[..., :pad_size]], dim=-1)\n",
        "            sum_inter += 1\n",
        "        in_x = x.view(*x.shape[:-1], sum_inter, r)  # [32, 32, 5, 156]\n",
        "\n",
        "        if not hasattr(self, 'cos') and not hasattr(self, 'sin'):\n",
        "            inv_freq = 1.0 / (10000 ** (torch.arange(0, r, 2).float() / r))\n",
        "            t = torch.arange(rb1)\n",
        "            freqs = torch.outer(t, inv_freq)\n",
        "            emb = torch.cat((freqs, freqs), dim=-1)\n",
        "            self.cos = emb.cos().unsqueeze(0).to(x.device).to(x.dtype)\n",
        "            self.sin = emb.sin().unsqueeze(0).to(x.device).to(x.dtype)\n",
        "\n",
        "        rh_in_x = torch.cat((-in_x[..., r // 2:], in_x[..., :r // 2]), dim=-1)\n",
        "        in_x = in_x * self.cos + rh_in_x * self.sin  # [32, 32, 3, 256]\n",
        "\n",
        "        # rearrange features\n",
        "        b, c, h, w = in_x.shape  # [16, 32, 3, 256]\n",
        "        in_x = in_x.view(b, c*h, w).permute(0, 2, 1)  # [16, 256, 96]\n",
        "\n",
        "        # apply mora_A\n",
        "        mora_out_x = self.mora_A['default'](in_x)  # [32, 256, 96]\n",
        "        mora_out_x = mora_out_x.view(b, c, h, w)  # [32, 32, 3, 256]\n",
        "\n",
        "        # apply decompression after lora_A\n",
        "        mora_out_x = mora_out_x.view(*x.shape[:-1], -1)[..., :out_f]  # [32, 32, 780]\n",
        "        if mora_out_x.shape[-1] < out_f:\n",
        "            repeat_time = out_f // mora_out_x.shape[-1]\n",
        "            if out_f % mora_out_x.shape[-1] != 0:\n",
        "                repeat_time += 1\n",
        "            mora_out_x = torch.cat([mora_out_x] * repeat_time, dim=-1)[..., :out_f]  # [32, 32, 2304]\n",
        "        return result + mora_out_x + (self.scaling * lora_out_x)\n",
        "\n",
        "class VectorMoLoRAInitializer:\n",
        "    def __init__(self, model, mora_base_rank=8, mora_rank_coefficients=None, lora_rank=None, lora_alpha=None, dropout=0.1):\n",
        "        self.model = model\n",
        "        self.lora_rank = lora_rank\n",
        "        self.lora_alpha = lora_alpha\n",
        "        self.mora_base_rank = mora_base_rank\n",
        "        self.dropout = dropout\n",
        "        self.mora_rank_coefficients = mora_rank_coefficients\n",
        "\n",
        "    def calculate_mora_ranks(self):\n",
        "        return [self.mora_base_rank * coeff for coeff in self.mora_rank_coefficients]\n",
        "\n",
        "    def initialize(self):\n",
        "        mora_ranks = self.calculate_mora_ranks()\n",
        "\n",
        "        for param in self.model.transformer.parameters():\n",
        "            param.requires_grad = False\n",
        "\n",
        "        for t_layer_i, blk in enumerate(self.model.transformer.h):\n",
        "            layer_w_qkv = blk.attn.c_attn\n",
        "            current_mora_rank = mora_ranks[t_layer_i]\n",
        "            current_lora_rank = self.lora_rank[t_layer_i]\n",
        "            current_alpha = self.lora_alpha[t_layer_i]\n",
        "            blk.attn.c_attn = Vector_MoLoRA(base_layer=layer_w_qkv, lora_rank=current_lora_rank, alpha=current_alpha,\n",
        "                            mora_rank=current_mora_rank, dropout=self.dropout)\n",
        "\n",
        "        print(\"Vector MoRA params initialized!\")\n",
        "        return self.model\n",
        "\n",
        "class PitVQAGen(nn.Module):\n",
        "    def __init__(self, mora_base_rank=8, mora_rank_coefficients=None, lora_rank=None, lora_alpha=None, dropout=0.1):\n",
        "        super(PitVQAGen, self).__init__()\n",
        "\n",
        "        if mora_rank_coefficients is None or lora_rank is None or lora_alpha is None:\n",
        "            print('Wrong hyperparameters.')\n",
        "\n",
        "        # visual encoder\n",
        "        model_name = \"google/vit-base-patch16-224-in21k\"\n",
        "        self.visual_encoder = ViTModel.from_pretrained(model_name)\n",
        "\n",
        "        # tokenizer\n",
        "        self.tokenizer = GPT2Tokenizer.from_pretrained('gpt2')\n",
        "        self.tokenizer.pad_token = self.tokenizer.eos_token  # end of string\n",
        "\n",
        "        # text encoder\n",
        "        self.text_encoder = BlipTextModel.from_pretrained(\"Salesforce/blip-vqa-base\")\n",
        "        original_weights = self.text_encoder.embeddings.word_embeddings.weight.data\n",
        "        new_vocab_size = len(self.tokenizer)\n",
        "        embedding_dim = self.text_encoder.embeddings.word_embeddings.embedding_dim\n",
        "        new_embeddings = nn.Embedding(new_vocab_size, embedding_dim)\n",
        "        original_vocab_size = original_weights.shape[0]\n",
        "        new_embeddings.weight.data[:original_vocab_size] = original_weights\n",
        "        self.text_encoder.embeddings.word_embeddings = new_embeddings\n",
        "\n",
        "        # gpt2 decoder\n",
        "        self.gpt = GPT2LMHeadModel.from_pretrained('gpt2')\n",
        "        self.gpt = VectorMoLoRAInitializer(self.gpt, mora_base_rank=mora_base_rank,\n",
        "                                           mora_rank_coefficients=mora_rank_coefficients,\n",
        "                                           lora_rank=lora_rank, lora_alpha=lora_alpha,\n",
        "                                           dropout=dropout).initialize()\n",
        "\n",
        "    def forward(self, image, qa_input_ids, qa_att_mask):\n",
        "        # visual encoder\n",
        "        image = image.to(device)\n",
        "        image_embeds = self.visual_encoder(image).last_hidden_state  # torch.Size([bs, 197, 768])\n",
        "        image_atts = torch.ones(image_embeds.size()[:-1], dtype=torch.long).to(image.device)  # torch.Size([bs, 197])\n",
        "\n",
        "        # qa_input_ids = qa_inputs['input_ids']  # torch.Size([bs, 25])\n",
        "        # qa_att_mask = qa_inputs['attention_mask']\n",
        "\n",
        "        # multimodal encoder\n",
        "        text_output = self.text_encoder(input_ids=qa_input_ids,\n",
        "                        attention_mask=qa_att_mask,\n",
        "                        encoder_hidden_states=image_embeds,\n",
        "                        encoder_attention_mask=image_atts,\n",
        "                        return_dict=True)\n",
        "        text_embeds = text_output.last_hidden_state  # torch.Size([bs, 25, 768]), args.question_len=25\n",
        "\n",
        "        # text decoder\n",
        "        gpt_output = self.gpt(inputs_embeds=text_embeds,\n",
        "                    encoder_attention_mask=qa_att_mask)  # torch.Size([bs, 25, 50257])\n",
        "        return gpt_output.logits"
      ],
      "metadata": {
        "id": "Rh70buhXVyP3"
      },
      "execution_count": 6,
      "outputs": []
    },
    {
      "cell_type": "markdown",
      "source": [
        "## Inference: Batch Greedy Search"
      ],
      "metadata": {
        "id": "w47_0OKuWNCj"
      }
    },
    {
      "cell_type": "code",
      "source": [
        "import os\n",
        "import numpy as np\n",
        "import random\n",
        "\n",
        "import torch\n",
        "import torch.utils.data\n",
        "from torch import nn\n",
        "from torch.utils.data import DataLoader\n",
        "from transformers import GPT2Tokenizer\n",
        "import torch.nn.functional as F\n",
        "import torchvision.transforms as transforms\n",
        "from torchvision.transforms.functional import InterpolationMode\n",
        "\n",
        "from PIL import Image\n",
        "from tqdm import tqdm\n",
        "import evaluate\n",
        "import time\n",
        "\n",
        "import warnings\n",
        "warnings.filterwarnings('ignore')\n",
        "\n",
        "def seed_everything(seed=42):\n",
        "    torch.manual_seed(seed)\n",
        "    torch.cuda.manual_seed_all(seed)\n",
        "    os.environ['PYTHONHASHSEED'] = str(seed)\n",
        "    torch.backends.cudnn.deterministic = True\n",
        "    torch.backends.cudnn.benchmark = False\n",
        "    np.random.seed(seed)\n",
        "    random.seed(seed)\n",
        "\n",
        "def batch_greedy_search(images, questions, model, tokenizer, max_length, device):\n",
        "    answers = []\n",
        "    uncertainties = [[] for _ in range(len(questions))]  # Track uncertainty until EOS per sample\n",
        "    batch_size = len(questions)\n",
        "\n",
        "    model.eval()\n",
        "    with torch.no_grad():\n",
        "        # Prepare the prompts for the entire batch\n",
        "        prompt_texts = [f\"Question: {q}\\nAnswer:\" for q in questions]\n",
        "\n",
        "        # Tokenize the prompts with padding to handle varying lengths\n",
        "        prompt_inputs = tokenizer(\n",
        "            prompt_texts,\n",
        "            return_tensors=\"pt\",\n",
        "            padding='longest',\n",
        "            add_special_tokens=False\n",
        "        )\n",
        "\n",
        "        # Prepare model inputs\n",
        "        padded_input_ids = torch.zeros((batch_size, max_length), dtype=torch.long, device=device)\n",
        "        padded_attention_mask = torch.zeros((batch_size, max_length), device=device)\n",
        "\n",
        "        orig_length = prompt_inputs['input_ids'].size(1)\n",
        "        padded_input_ids[:, :orig_length] = prompt_inputs['input_ids']\n",
        "        padded_attention_mask[:, :orig_length] = prompt_inputs['attention_mask']\n",
        "\n",
        "        images = images.to(device)\n",
        "\n",
        "        # Initialize tensors to store generated tokens\n",
        "        only_answer_ids = torch.empty((batch_size, 0), dtype=torch.long, device=device)\n",
        "\n",
        "        # Track which sequences have finished generating\n",
        "        finished = torch.zeros(batch_size, dtype=torch.bool, device=device)\n",
        "\n",
        "        # Record each sample length (number of non-eos tokens)\n",
        "        valid_lengths = padded_attention_mask.sum(dim=1).long()\n",
        "        batch_indices = torch.arange(batch_size, device=device)\n",
        "\n",
        "        for _ in range(max_length):\n",
        "            max_valid_lengths = max(valid_lengths).item()\n",
        "            # Forward pass through the model\n",
        "            logits = model(image=images, qa_input_ids=padded_input_ids[:, :max_valid_lengths], qa_att_mask=padded_attention_mask[:, :max_valid_lengths])\n",
        "\n",
        "            # Get next token probabilities and entropy\n",
        "            last_valid_logits = logits[batch_indices, valid_lengths - 1, :]\n",
        "            probs = F.softmax(last_valid_logits, dim=-1)\n",
        "\n",
        "            # Compute entropy for uncertainty\n",
        "            entropy = -torch.sum(probs * torch.log(probs + 1e-9), dim=-1)  # Add small value to avoid log(0)\n",
        "\n",
        "            # Get next token\n",
        "            next_token_ids = torch.argmax(last_valid_logits, dim=-1)\n",
        "\n",
        "            # Track uncertainty until EOS token for each sample\n",
        "            for i in range(batch_size):\n",
        "                if not finished[i]:  # Only store uncertainty for unfinished samples\n",
        "                    uncertainties[i].append(entropy[i].item())\n",
        "\n",
        "            # Check EOS\n",
        "            is_eos = (next_token_ids == tokenizer.eos_token_id)\n",
        "            finished = finished | is_eos  # Update finished status\n",
        "\n",
        "            padded_input_ids[batch_indices, valid_lengths] = next_token_ids\n",
        "            padded_attention_mask[batch_indices, valid_lengths] = 1\n",
        "            valid_lengths += 1\n",
        "\n",
        "            # Append the selected tokens to the generated_ids\n",
        "            only_answer_ids = torch.cat([only_answer_ids, next_token_ids.unsqueeze(1)], dim=1)\n",
        "\n",
        "            # If all sequences have finished, exit early\n",
        "            if finished.all():\n",
        "                break\n",
        "\n",
        "        # Decode the generated tokens into strings\n",
        "        generated_ids_cpu = only_answer_ids.cpu().tolist()  # Move to CPU and convert to list for processing\n",
        "        for i in range(batch_size):\n",
        "            # Find the first occurrence of eos_token_id to truncate the answer\n",
        "            try:\n",
        "                eos_index = generated_ids_cpu[i].index(tokenizer.eos_token_id)\n",
        "                answer_ids = generated_ids_cpu[i][:eos_index]\n",
        "            except ValueError:\n",
        "                # If eos_token_id is not found, use all generated tokens\n",
        "                answer_ids = generated_ids_cpu[i]\n",
        "\n",
        "            # Decode the token IDs to a string, skipping special tokens\n",
        "            answer = tokenizer.decode(answer_ids, skip_special_tokens=True).strip()\n",
        "            answers.append(answer)\n",
        "\n",
        "    # Compute per-sample uncertainty by averaging entropies over all generated tokens for that sample\n",
        "    samplewise_unc = [sum(unc) / len(unc) if len(unc) > 0 else 0.0 for unc in uncertainties]\n",
        "\n",
        "    return answers, samplewise_unc\n",
        "\n",
        "def validate(args, val_loader, model, tokenizer, device):\n",
        "    references = []\n",
        "    hypotheses = []\n",
        "    samplewise_unc_all = []\n",
        "\n",
        "    model.eval()\n",
        "    with torch.no_grad():\n",
        "        for i, (images, questions, answers) in enumerate(tqdm(val_loader), 0):\n",
        "            images = images.to(device)\n",
        "            generated_answers, samplewise_unc = batch_greedy_search(\n",
        "                images,\n",
        "                questions,\n",
        "                model,\n",
        "                tokenizer,\n",
        "                max_length=args.seq_length,\n",
        "                device=device\n",
        "            )\n",
        "\n",
        "            references.extend(answers)\n",
        "            hypotheses.extend(generated_answers)\n",
        "            samplewise_unc_all.extend(samplewise_unc)\n",
        "\n",
        "    return references, hypotheses, samplewise_unc_all\n",
        "\n",
        "def get_nlp_mettics(references, hypotheses):\n",
        "    bleu = evaluate.load(\"bleu\")\n",
        "    rouge = evaluate.load(\"rouge\")\n",
        "    meteor = evaluate.load('meteor')\n",
        "\n",
        "    # compute HF metrics\n",
        "    results_bleu = bleu.compute(predictions=hypotheses, references=references)\n",
        "    results_rouge = rouge.compute(predictions=hypotheses, references=references)\n",
        "    results_meteor = meteor.compute(predictions=hypotheses, references=references)\n",
        "\n",
        "    print(\"HuggingFace Metrics Results:\")\n",
        "\n",
        "    print(f\"BLEU-1: {results_bleu['precisions'][0]:.6f}, \"\n",
        "      f\"BLEU-2: {results_bleu['precisions'][1]:.6f}, \"\n",
        "      f\"BLEU-3: {results_bleu['precisions'][2]:.6f}, \"\n",
        "      f\"BLEU-4: {results_bleu['precisions'][3]:.6f}, \"\n",
        "      f\"Overall BLEU: {results_bleu['bleu']:.6f}\")\n",
        "\n",
        "    print(f\"BLEU-4: {results_bleu['bleu']:.6f}\")\n",
        "    print(f\"Rouge1: {results_rouge['rouge1']:.6f}\")\n",
        "    print(f\"RougeL: {results_rouge['rougeL']:.6f}\")\n",
        "    print(f\"Meteor: {results_meteor['meteor']:.6f}\")\n",
        "\n",
        "    samplewise_rouge = rouge.compute(predictions=hypotheses, references=references, use_aggregator=False)\n",
        "\n",
        "    return samplewise_rouge['rougeL']\n",
        "\n",
        "class HyperPara:\n",
        "    def __init__(self):\n",
        "        self.epochs = 60\n",
        "        self.seq_length = 64\n",
        "        self.workers = 4\n",
        "        self.batch_size = 256\n",
        "\n",
        "if __name__ == '__main__':\n",
        "    # parameters\n",
        "    mora_base_rank = 8\n",
        "    mora_coeff = [26, 26, 24, 24, 22, 22, 20, 20, 18, 18, 16, 16]\n",
        "    lora_rank = [18, 18, 16, 16, 14, 14, 12, 12, 10, 10, 8, 8]\n",
        "    lora_alpha = [18, 18, 16, 16, 14, 14, 12, 12, 10, 10, 8, 8]\n",
        "    dropout = 0.1\n",
        "\n",
        "    random_seed = 42\n",
        "    seed_everything(random_seed)\n",
        "    device = torch.device(\"cuda\" if torch.cuda.is_available() else \"cpu\")\n",
        "\n",
        "    # load weights\n",
        "    model_path = '/content/vec_mlr_saved_weights.pth.tar'\n",
        "    model = PitVQAGen(mora_base_rank=mora_base_rank, mora_rank_coefficients=mora_coeff,\n",
        "              lora_rank=lora_rank, lora_alpha=lora_alpha, dropout=dropout)\n",
        "    checkpoint = torch.load(model_path, map_location='cpu')\n",
        "    saved_model = checkpoint['model']\n",
        "    saved_state_dict = saved_model.state_dict()\n",
        "    model.load_state_dict(saved_state_dict)\n",
        "    model = model.to(device)\n",
        "\n",
        "    # prepare data\n",
        "    args = HyperPara()\n",
        "    val_seq = [1, 5, 16]\n",
        "\n",
        "    folder_head = '/content/EndoVis-18-VQA/seq_'\n",
        "    folder_tail = '/vqa/Sentence/*.txt'\n",
        "\n",
        "    val_dataset = EndoVis18VQA(val_seq, folder_head, folder_tail)\n",
        "    val_dataloader = DataLoader(dataset=val_dataset, batch_size=args.batch_size,\n",
        "                                shuffle=False, num_workers=args.workers)\n",
        "\n",
        "    tokenizer = GPT2Tokenizer.from_pretrained('gpt2')\n",
        "    tokenizer.pad_token = tokenizer.eos_token\n",
        "\n",
        "    st = time.time()\n",
        "    references, hypotheses, samplewise_unc_all = validate(args, val_loader=val_dataloader, model=model, tokenizer=tokenizer, device=device)\n",
        "    en = time.time()\n",
        "    print('total time:', en -st)\n",
        "\n",
        "    samplewise_rougeL = get_nlp_mettics(references, hypotheses)\n",
        "    print(len(samplewise_unc_all), len(samplewise_rougeL))"
      ],
      "metadata": {
        "colab": {
          "base_uri": "https://localhost:8080/"
        },
        "id": "xbyalceX30pf",
        "outputId": "fc1d1612-7ec2-437c-f626-9d92b3e05426"
      },
      "execution_count": 40,
      "outputs": [
        {
          "output_type": "stream",
          "name": "stdout",
          "text": [
            "Total files: 447 | Total question: 3216\n"
          ]
        },
        {
          "output_type": "stream",
          "name": "stderr",
          "text": [
            "  0%|          | 0/101 [00:16<?, ?it/s]\n"
          ]
        },
        {
          "output_type": "stream",
          "name": "stdout",
          "text": [
            "total time: 16.186095237731934\n"
          ]
        },
        {
          "output_type": "stream",
          "name": "stderr",
          "text": [
            "[nltk_data] Downloading package wordnet to /root/nltk_data...\n",
            "[nltk_data]   Package wordnet is already up-to-date!\n",
            "[nltk_data] Downloading package punkt_tab to /root/nltk_data...\n",
            "[nltk_data]   Package punkt_tab is already up-to-date!\n",
            "[nltk_data] Downloading package omw-1.4 to /root/nltk_data...\n",
            "[nltk_data]   Package omw-1.4 is already up-to-date!\n"
          ]
        },
        {
          "output_type": "stream",
          "name": "stdout",
          "text": [
            "HuggingFace Metrics Results:\n",
            "BLEU-4: 0.783568\n",
            "Rouge1: 0.895470\n",
            "RougeL: 0.895740\n",
            "Meteor: 0.865193\n",
            "32 32\n"
          ]
        }
      ]
    },
    {
      "cell_type": "markdown",
      "source": [
        "#Calculating Risk-Coverage Curve"
      ],
      "metadata": {
        "id": "w61rdNw0LUAZ"
      }
    },
    {
      "cell_type": "code",
      "source": [
        "import numpy as np\n",
        "import matplotlib.pyplot as plt\n",
        "\n",
        "# Ensure numpy arrays for easier manipulation\n",
        "uncertainty_array = np.array(samplewise_unc_all)\n",
        "rougeL_array = np.array(samplewise_rougeL)\n",
        "\n",
        "# Get sorted indices based on uncertainty in descending order (highest uncertainty first)\n",
        "sorted_indices = np.argsort(-uncertainty_array)\n",
        "\n",
        "# Sort RougeL scores based on sorted uncertainty indices\n",
        "sorted_rougeL = rougeL_array[sorted_indices]\n",
        "\n",
        "# Define removal percentages\n",
        "removal_percentages = [0, 20, 40, 60, 80]\n",
        "\n",
        "print(\"Average RougeL after removing samples with highest uncertainty:\")\n",
        "avg_rougeL_by_refer = []\n",
        "for percent in removal_percentages:\n",
        "    num_to_remove = int(len(sorted_rougeL) * (percent / 100))\n",
        "    remaining_rougeL = sorted_rougeL[num_to_remove:]  # Remove top N% uncertain samples\n",
        "    avg_rougeL = np.mean(remaining_rougeL) if len(remaining_rougeL) > 0 else 0\n",
        "    print(f\"After removing top {percent}%: {avg_rougeL:.4f}\")\n",
        "    avg_rougeL_by_refer.append(avg_rougeL)\n",
        "\n",
        "refer = np.array(['0' , 0.2 , 0.4 ,  0.6 ,  0.8  ])\n",
        "avg_rougeL_by_refer = np.array(avg_rougeL_by_refer)\n",
        "\n",
        "ax = plt.gca()\n",
        "lineObjects = ax.plot(refer, avg_rougeL_by_refer.transpose(),marker='o',markersize=4)\n",
        "legends = ['PitVQA++(Ours)']\n",
        "ax.legend(lineObjects, legends)\n",
        "ax.set_ylabel('Performance (RougeL)')\n",
        "ax.set_xlabel(\"Refer to Experts\")\n",
        "ax.set_title('Risk-coverage curve');\n",
        "plt.savefig(\"Risk_coverage_curve.pdf\", bbox_inches='tight', dpi=1500)\n"
      ],
      "metadata": {
        "colab": {
          "base_uri": "https://localhost:8080/",
          "height": 576
        },
        "id": "cvPR6QG4D1YQ",
        "outputId": "0d25d8d4-dc36-44fb-eb8e-6d9a1aed2dd3"
      },
      "execution_count": 43,
      "outputs": [
        {
          "output_type": "stream",
          "name": "stdout",
          "text": [
            "Average RougeL after removing samples with highest uncertainty:\n",
            "After removing top 0%: 0.8953\n",
            "After removing top 20%: 0.8972\n",
            "After removing top 40%: 0.9045\n",
            "After removing top 60%: 0.9124\n",
            "After removing top 80%: 0.9821\n"
          ]
        },
        {
          "output_type": "display_data",
          "data": {
            "text/plain": [
              "<Figure size 640x480 with 1 Axes>"
            ],
            "image/png": "[encoded data removed]"
          },
          "metadata": {}
        }
      ]
    }
  ]
}