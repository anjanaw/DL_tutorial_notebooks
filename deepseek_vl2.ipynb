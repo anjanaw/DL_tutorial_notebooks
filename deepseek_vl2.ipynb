{
  "nbformat": 4,
  "nbformat_minor": 0,
  "metadata": {
    "colab": {
      "provenance": [],
      "gpuType": "T4",
      "authorship_tag": "ABX9TyM+ov6L8M56M8EvrUaV5mP9",
      "include_colab_link": true
    },
    "kernelspec": {
      "name": "python3",
      "display_name": "Python 3"
    },
    "language_info": {
      "name": "python"
    },
    "accelerator": "GPU"
  },
  "cells": [
    {
      "cell_type": "markdown",
      "metadata": {
        "id": "view-in-github",
        "colab_type": "text"
      },
      "source": [
        "<a href=\"https://colab.research.google.com/github/mobarakol/tutorial_notebooks/blob/main/deepseek_vl2.ipynb\" target=\"_parent\"><img src=\"https://colab.research.google.com/assets/colab-badge.svg\" alt=\"Open In Colab\"/></a>"
      ]
    },
    {
      "cell_type": "code",
      "source": [
        "!git clone https://github.com/deepseek-ai/DeepSeek-VL2.git\n",
        "%cd DeepSeek-VL2"
      ],
      "metadata": {
        "colab": {
          "base_uri": "https://localhost:8080/"
        },
        "id": "OmQ2M8fHoZ54",
        "outputId": "940e81ea-7cd3-4bf9-fead-a6d5eceebfff"
      },
      "execution_count": null,
      "outputs": [
        {
          "output_type": "stream",
          "name": "stdout",
          "text": [
            "Cloning into 'DeepSeek-VL2'...\n",
            "remote: Enumerating objects: 211, done.\u001b[K\n",
            "remote: Counting objects: 100% (82/82), done.\u001b[K\n",
            "remote: Compressing objects: 100% (42/42), done.\u001b[K\n",
            "remote: Total 211 (delta 61), reused 40 (delta 40), pack-reused 129 (from 2)\u001b[K\n",
            "Receiving objects: 100% (211/211), 31.05 MiB | 19.76 MiB/s, done.\n",
            "Resolving deltas: 100% (91/91), done.\n",
            "/content/DeepSeek-VL2\n"
          ]
        }
      ]
    },
    {
      "cell_type": "code",
      "source": [
        "!ls"
      ],
      "metadata": {
        "colab": {
          "base_uri": "https://localhost:8080/"
        },
        "id": "vZ4C214Bo8cI",
        "outputId": "4104e5ab-2066-4cc5-9325-09e6409ddf03"
      },
      "execution_count": 3,
      "outputs": [
        {
          "output_type": "stream",
          "name": "stdout",
          "text": [
            "deepseek_env  DeepSeek_VL2_paper.pdf  inference.py  LICENSE-MODEL  pyproject.toml  requirements.txt\n",
            "deepseek_vl2  images\t\t      LICENSE-CODE  Makefile\t   README.md\t   web_demo.py\n"
          ]
        }
      ]
    },
    {
      "cell_type": "code",
      "source": [
        "!python -m venv deepseek_env\n",
        "!source deepseek_env/bin/activate  # On Windows: deepseek_env\\Scripts\\activate"
      ],
      "metadata": {
        "id": "DYu2JtzRotVb",
        "colab": {
          "base_uri": "https://localhost:8080/"
        },
        "outputId": "9998639c-b4b0-4ed0-fe4d-2df52a22b716"
      },
      "execution_count": 4,
      "outputs": [
        {
          "output_type": "stream",
          "name": "stdout",
          "text": [
            "Error: Command '['/content/DeepSeek-VL2/deepseek_env/bin/python3', '-m', 'ensurepip', '--upgrade', '--default-pip']' returned non-zero exit status 1.\n",
            "/bin/bash: line 1: deepseek_env/bin/activate: No such file or directory\n"
          ]
        }
      ]
    },
    {
      "cell_type": "code",
      "execution_count": null,
      "metadata": {
        "id": "BjgGUlS4oM61"
      },
      "outputs": [],
      "source": [
        "import torch\n",
        "from transformers import AutoModelForCausalLM\n",
        "from deepseek_vl2.models import DeepseekVLV2Processor, DeepseekVLV2ForCausalLM\n",
        "from deepseek_vl2.utils.io import load_pil_images\n",
        "\n",
        "# Specify the model path\n",
        "model_path = \"deepseek-ai/deepseek-vl2-tiny\"\n",
        "processor = DeepseekVLV2Processor.from_pretrained(model_path)\n",
        "tokenizer = processor.tokenizer\n",
        "\n",
        "model = AutoModelForCausalLM.from_pretrained(model_path, trust_remote_code=True)\n",
        "model = model.to(torch.bfloat16).cuda().eval()\n",
        "\n",
        "# Load and process the image\n",
        "image_path = \"./images/sample_image.jpg\"\n",
        "images = load_pil_images([image_path])\n",
        "\n",
        "# Prepare the conversation\n",
        "conversation = [\n",
        "    {\n",
        "        \"role\": \"<|User|>\",\n",
        "        \"content\": \"<image>\\nDescribe the image.\",\n",
        "        \"images\": images,\n",
        "    },\n",
        "    {\"role\": \"<|Assistant|>\", \"content\": \"\"},\n",
        "]\n",
        "\n",
        "# Process the conversation\n",
        "inputs = processor(conversation, return_tensors=\"pt\")\n",
        "inputs = {k: v.to(torch.bfloat16).cuda() for k, v in inputs.items()}\n",
        "\n",
        "# Generate the response\n",
        "with torch.no_grad():\n",
        "    outputs = model.generate(**inputs, max_new_tokens=512)\n",
        "    response = tokenizer.decode(outputs[0], skip_special_tokens=True)\n",
        "\n",
        "print(response)\n"
      ]
    }
  ]
}